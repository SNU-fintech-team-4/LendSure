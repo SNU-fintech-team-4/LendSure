{
 "cells": [
  {
   "metadata": {
    "ExecuteTime": {
     "end_time": "2025-02-26T17:27:43.840636Z",
     "start_time": "2025-02-26T17:27:43.837211Z"
    }
   },
   "cell_type": "code",
   "source": [
    "# package load\n",
    "import pandas as pd\n",
    "import numpy as np"
   ],
   "id": "88067a8effdfcf17",
   "outputs": [],
   "execution_count": 2
  },
  {
   "metadata": {
    "ExecuteTime": {
     "end_time": "2025-02-26T17:28:19.015755Z",
     "start_time": "2025-02-26T17:27:45.405994Z"
    }
   },
   "cell_type": "code",
   "source": [
    "# loaded data into a dataframe\n",
    "\n",
    "df = pd.read_csv(\"./lending_club_2020_train.csv\", low_memory=False)\n",
    "\n",
    "# 결측치가 50%이상인 칼럼 제거\n",
    "df = df.loc[:, (df.isnull().mean() < 0.5) | (df.columns == \"loan_status\")]\n",
    "\n",
    "# 필요 없는 칼럼 삭제\n",
    "df = df.drop(columns=[\"id\",\n",
    "                      \"url\",\n",
    "                      \"title\",\n",
    "                      \"application_type\",\n",
    "                      \"policy_code\",\n",
    "                      \"hardship_flag\",\n",
    "                      \"verification_status\",\n",
    "                      \"pymnt_plan\",\n",
    "                      \"initial_list_status\",\n",
    "                      \"recoveries\",\n",
    "                      \"collection_recovery_fee\",\n",
    "                      \"collections_12_mths_ex_med\",\n",
    "                      \"num_tl_120dpd_2m\",\n",
    "                      \"debt_settlement_flag\"\n",
    "                      ])\n",
    "\n",
    "# id, url, title, application_type, policy_code, hardship_flag는 사용하기 어려운 데이터\n",
    "# verification_status는 유의미할 거 같지만 없어도 크게 상관 없을거같음\n",
    "# pymnt_plan는 모든 데이터가 다 똑같음\n",
    "# collections_12_mths_ex_med 의료 빼고 채권추심. 삭제\n",
    "# num_tl_120dpd_2m 업데이트가 안되었을 가능성 존재. 삭제\n",
    "# debt_settlement_flag 데이터 불균형이 심함. 삭제\n"
   ],
   "id": "14387bf720534844",
   "outputs": [],
   "execution_count": 3
  },
  {
   "metadata": {
    "ExecuteTime": {
     "end_time": "2025-02-26T16:35:56.571232Z",
     "start_time": "2025-02-26T16:35:56.561728Z"
    }
   },
   "cell_type": "code",
   "source": [
    "# 시계열 데이터는 일단 제외하고 작업\n",
    "\n",
    "# inq_last_~~ 는 대출 실행 전 데이터임\n",
    "# out_prncp~~ 는 대출이 실행된 시점부터 마지막 상태 처리 되기 전까지 충분히 열람할 수 있는 데이터\n",
    "\n",
    "df.info()"
   ],
   "id": "339755db909c3da7",
   "outputs": [
    {
     "name": "stdout",
     "output_type": "stream",
     "text": [
      "<class 'pandas.core.frame.DataFrame'>\n",
      "RangeIndex: 1755295 entries, 0 to 1755294\n",
      "Data columns (total 92 columns):\n",
      " #   Column                      Dtype  \n",
      "---  ------                      -----  \n",
      " 0   loan_amnt                   float64\n",
      " 1   funded_amnt                 float64\n",
      " 2   funded_amnt_inv             float64\n",
      " 3   term                        object \n",
      " 4   int_rate                    object \n",
      " 5   installment                 float64\n",
      " 6   grade                       object \n",
      " 7   sub_grade                   object \n",
      " 8   emp_title                   object \n",
      " 9   emp_length                  object \n",
      " 10  home_ownership              object \n",
      " 11  annual_inc                  float64\n",
      " 12  issue_d                     object \n",
      " 13  loan_status                 object \n",
      " 14  purpose                     object \n",
      " 15  zip_code                    object \n",
      " 16  addr_state                  object \n",
      " 17  dti                         float64\n",
      " 18  delinq_2yrs                 float64\n",
      " 19  earliest_cr_line            object \n",
      " 20  fico_range_low              float64\n",
      " 21  fico_range_high             float64\n",
      " 22  inq_last_6mths              float64\n",
      " 23  open_acc                    float64\n",
      " 24  pub_rec                     float64\n",
      " 25  revol_bal                   float64\n",
      " 26  revol_util                  object \n",
      " 27  total_acc                   float64\n",
      " 28  out_prncp                   float64\n",
      " 29  out_prncp_inv               float64\n",
      " 30  total_pymnt                 float64\n",
      " 31  total_pymnt_inv             float64\n",
      " 32  total_rec_prncp             float64\n",
      " 33  total_rec_int               float64\n",
      " 34  total_rec_late_fee          float64\n",
      " 35  last_pymnt_d                object \n",
      " 36  last_pymnt_amnt             float64\n",
      " 37  last_credit_pull_d          object \n",
      " 38  last_fico_range_high        float64\n",
      " 39  last_fico_range_low         float64\n",
      " 40  acc_now_delinq              float64\n",
      " 41  tot_coll_amt                float64\n",
      " 42  tot_cur_bal                 float64\n",
      " 43  open_acc_6m                 float64\n",
      " 44  open_act_il                 float64\n",
      " 45  open_il_12m                 float64\n",
      " 46  open_il_24m                 float64\n",
      " 47  mths_since_rcnt_il          float64\n",
      " 48  total_bal_il                float64\n",
      " 49  il_util                     float64\n",
      " 50  open_rv_12m                 float64\n",
      " 51  open_rv_24m                 float64\n",
      " 52  max_bal_bc                  float64\n",
      " 53  all_util                    float64\n",
      " 54  total_rev_hi_lim            float64\n",
      " 55  inq_fi                      float64\n",
      " 56  total_cu_tl                 float64\n",
      " 57  inq_last_12m                float64\n",
      " 58  acc_open_past_24mths        float64\n",
      " 59  avg_cur_bal                 float64\n",
      " 60  bc_open_to_buy              float64\n",
      " 61  bc_util                     float64\n",
      " 62  chargeoff_within_12_mths    float64\n",
      " 63  delinq_amnt                 float64\n",
      " 64  mo_sin_old_il_acct          float64\n",
      " 65  mo_sin_old_rev_tl_op        float64\n",
      " 66  mo_sin_rcnt_rev_tl_op       float64\n",
      " 67  mo_sin_rcnt_tl              float64\n",
      " 68  mort_acc                    float64\n",
      " 69  mths_since_recent_bc        float64\n",
      " 70  mths_since_recent_inq       float64\n",
      " 71  num_accts_ever_120_pd       float64\n",
      " 72  num_actv_bc_tl              float64\n",
      " 73  num_actv_rev_tl             float64\n",
      " 74  num_bc_sats                 float64\n",
      " 75  num_bc_tl                   float64\n",
      " 76  num_il_tl                   float64\n",
      " 77  num_op_rev_tl               float64\n",
      " 78  num_rev_accts               float64\n",
      " 79  num_rev_tl_bal_gt_0         float64\n",
      " 80  num_sats                    float64\n",
      " 81  num_tl_30dpd                float64\n",
      " 82  num_tl_90g_dpd_24m          float64\n",
      " 83  num_tl_op_past_12m          float64\n",
      " 84  pct_tl_nvr_dlq              float64\n",
      " 85  percent_bc_gt_75            float64\n",
      " 86  pub_rec_bankruptcies        float64\n",
      " 87  tax_liens                   float64\n",
      " 88  tot_hi_cred_lim             float64\n",
      " 89  total_bal_ex_mort           float64\n",
      " 90  total_bc_limit              float64\n",
      " 91  total_il_high_credit_limit  float64\n",
      "dtypes: float64(76), object(16)\n",
      "memory usage: 1.2+ GB\n"
     ]
    }
   ],
   "execution_count": 66
  },
  {
   "metadata": {},
   "cell_type": "markdown",
   "source": [
    "### EDA MEMO\n",
    "+ p2p 대출은 LC에 차입자 정보가 넘오오면, 해당 차입자에 대해서 투자자가 모집되어야만 차입자에 돈을 줄 수 있음. 왜냐하면 LC는 중개기관의 역할만 하기 때문.\n",
    "+ 특히 이 때문에 발생하는 문제로, 우리가 loan_status를 만드는 목적은 차입자를 좋은 상품으로 포장해 투자자에게 연결시켜주기 전에 loan_status를 예측해서 잠재적 부도율을 구하고 sharp ratio를 최적화하는 것이 목표인데, total_rec_late_fee(지금까지 받은 총 연체료)같은 데이터는 투자가 이미 이루어진 후에 발생하는 데이터이기 때문에 사용할 수 없는 데이터가 되어버림.\n",
    "+ 이 점을 해소하기 위해서 여러 차입자를 묶어 ABS, CDO처럼 자산을 상품화, 유동화 시키면, 투자자에게 먼저 투자금을 유치한 후 기존 차입자와 신규 차입자를 한 상품에 넣고 상품의 sharp ratio를 측정할 수 있다. 따라서 이렇게 로직을 설정할 경우 total_pymnt, total_rec_int같은 지표를 사용할 당위성을 갖추게 됌."
   ],
   "id": "df04ab4e73c6667d"
  },
  {
   "metadata": {
    "ExecuteTime": {
     "end_time": "2025-02-26T16:36:51.788068Z",
     "start_time": "2025-02-26T16:36:51.738320Z"
    }
   },
   "cell_type": "code",
   "source": [
    "# EDA\n",
    "# 결측치가 많은 순서대로 내림차순 해보니 29.6%의 결측치를 가지는 칼럼을 마지막으로 결측치가 12.6% 이하로 확 줄었음.\n",
    "# 데이터 개수가 100만건 이상이기 때문에, 약 30%의 결측치만 가져도 절대적으로 매우 많은 결측값을 가지게 됌.\n",
    "df[\"loan_status\"].value_counts()"
   ],
   "id": "5a0514b4514b2cd6",
   "outputs": [
    {
     "data": {
      "text/plain": [
       "loan_status\n",
       "Fully Paid                                             898522\n",
       "Current                                                618688\n",
       "Charged Off                                            217366\n",
       "Late (31-120 days)                                       9840\n",
       "In Grace Period                                          6049\n",
       "Late (16-30 days)                                        1620\n",
       "Issued                                                   1258\n",
       "Does not meet the credit policy. Status:Fully Paid       1223\n",
       "Does not meet the credit policy. Status:Charged Off       460\n",
       "Default                                                   268\n",
       "Name: count, dtype: int64"
      ]
     },
     "execution_count": 68,
     "metadata": {},
     "output_type": "execute_result"
    }
   ],
   "execution_count": 68
  },
  {
   "metadata": {
    "ExecuteTime": {
     "end_time": "2025-02-26T16:38:38.541990Z",
     "start_time": "2025-02-26T16:38:37.969428Z"
    }
   },
   "cell_type": "code",
   "source": [
    "# 타겟변수로 쓸 loan_status의 값을 기준으로 데이터 정리\n",
    "# 'Fully Paid', 'Current', 'Charged Off' 값만 남기고 나머지 행 삭제\n",
    "df = df[df['loan_status'].isin(['Fully Paid', 'Current', 'Charged Off'])]\n",
    "df[\"loan_status\"].value_counts()\n"
   ],
   "id": "17e550a83b24289a",
   "outputs": [
    {
     "data": {
      "text/plain": [
       "loan_status\n",
       "Fully Paid     898522\n",
       "Current        618688\n",
       "Charged Off    217366\n",
       "Name: count, dtype: int64"
      ]
     },
     "execution_count": 73,
     "metadata": {},
     "output_type": "execute_result"
    }
   ],
   "execution_count": 73
  },
  {
   "metadata": {
    "ExecuteTime": {
     "end_time": "2025-02-26T17:08:28.658800Z",
     "start_time": "2025-02-26T17:08:27.674938Z"
    }
   },
   "cell_type": "code",
   "source": [
    "# 결측치가 있는 칼럼 검색\n",
    "missing_columns = df.columns[df.isnull().any()].tolist()\n",
    "print(len(missing_columns))"
   ],
   "id": "a64e2f40a912b54e",
   "outputs": [
    {
     "name": "stdout",
     "output_type": "stream",
     "text": [
      "56\n"
     ]
    }
   ],
   "execution_count": 76
  },
  {
   "metadata": {
    "ExecuteTime": {
     "end_time": "2025-02-26T17:29:27.257277Z",
     "start_time": "2025-02-26T17:29:26.435276Z"
    }
   },
   "cell_type": "code",
   "source": [
    "# 각 컬럼의 결측치 개수 계산\n",
    "missing_counts = df.isnull().sum()\n",
    "\n",
    "# 결측치가 있는 컬럼만 선택\n",
    "missing_counts = missing_counts[missing_counts > 0]\n",
    "\n",
    "# 결측치 비율 계산 (전체 행 수에 대한 비율)\n",
    "missing_ratios = missing_counts / len(df)\n",
    "\n",
    "# 결측치 개수와 비율을 하나의 DataFrame으로 생성한 후, 내림차순 정렬\n",
    "missing_df = pd.DataFrame({\n",
    "    'Missing Count': missing_counts,\n",
    "    'Missing Ratio': missing_ratios\n",
    "}).sort_values(by='Missing Count', ascending=False)\n",
    "\n",
    "missing_df\n",
    "\n",
    "# 결측치 개수를 내림차순으로 확인 결과 29.84%의 결측치를 가지는 total_cu_tl 다음 가장 많은 결측치가 12.63%로 확 줄어듬.\n",
    "# 29.84%의 결측치는 절대적인 결측치 개수로 봤을 때 52만개에 달함, "
   ],
   "id": "2575d9552a0aa764",
   "outputs": [
    {
     "data": {
      "text/plain": [
       "                     Missing Count  Missing Ratio\n",
       "il_util                     694480   3.956486e-01\n",
       "mths_since_rcnt_il          556001   3.167564e-01\n",
       "all_util                    519946   2.962157e-01\n",
       "open_il_24m                 519721   2.960876e-01\n",
       "inq_last_12m                519721   2.960876e-01\n",
       "...                            ...            ...\n",
       "total_pymnt_inv                  1   5.697048e-07\n",
       "out_prncp_inv                    1   5.697048e-07\n",
       "last_fico_range_low              1   5.697048e-07\n",
       "total_pymnt                      1   5.697048e-07\n",
       "out_prncp                        1   5.697048e-07\n",
       "\n",
       "[92 rows x 2 columns]"
      ],
      "text/html": [
       "<div>\n",
       "<style scoped>\n",
       "    .dataframe tbody tr th:only-of-type {\n",
       "        vertical-align: middle;\n",
       "    }\n",
       "\n",
       "    .dataframe tbody tr th {\n",
       "        vertical-align: top;\n",
       "    }\n",
       "\n",
       "    .dataframe thead th {\n",
       "        text-align: right;\n",
       "    }\n",
       "</style>\n",
       "<table border=\"1\" class=\"dataframe\">\n",
       "  <thead>\n",
       "    <tr style=\"text-align: right;\">\n",
       "      <th></th>\n",
       "      <th>Missing Count</th>\n",
       "      <th>Missing Ratio</th>\n",
       "    </tr>\n",
       "  </thead>\n",
       "  <tbody>\n",
       "    <tr>\n",
       "      <th>il_util</th>\n",
       "      <td>694480</td>\n",
       "      <td>3.956486e-01</td>\n",
       "    </tr>\n",
       "    <tr>\n",
       "      <th>mths_since_rcnt_il</th>\n",
       "      <td>556001</td>\n",
       "      <td>3.167564e-01</td>\n",
       "    </tr>\n",
       "    <tr>\n",
       "      <th>all_util</th>\n",
       "      <td>519946</td>\n",
       "      <td>2.962157e-01</td>\n",
       "    </tr>\n",
       "    <tr>\n",
       "      <th>open_il_24m</th>\n",
       "      <td>519721</td>\n",
       "      <td>2.960876e-01</td>\n",
       "    </tr>\n",
       "    <tr>\n",
       "      <th>inq_last_12m</th>\n",
       "      <td>519721</td>\n",
       "      <td>2.960876e-01</td>\n",
       "    </tr>\n",
       "    <tr>\n",
       "      <th>...</th>\n",
       "      <td>...</td>\n",
       "      <td>...</td>\n",
       "    </tr>\n",
       "    <tr>\n",
       "      <th>total_pymnt_inv</th>\n",
       "      <td>1</td>\n",
       "      <td>5.697048e-07</td>\n",
       "    </tr>\n",
       "    <tr>\n",
       "      <th>out_prncp_inv</th>\n",
       "      <td>1</td>\n",
       "      <td>5.697048e-07</td>\n",
       "    </tr>\n",
       "    <tr>\n",
       "      <th>last_fico_range_low</th>\n",
       "      <td>1</td>\n",
       "      <td>5.697048e-07</td>\n",
       "    </tr>\n",
       "    <tr>\n",
       "      <th>total_pymnt</th>\n",
       "      <td>1</td>\n",
       "      <td>5.697048e-07</td>\n",
       "    </tr>\n",
       "    <tr>\n",
       "      <th>out_prncp</th>\n",
       "      <td>1</td>\n",
       "      <td>5.697048e-07</td>\n",
       "    </tr>\n",
       "  </tbody>\n",
       "</table>\n",
       "<p>92 rows × 2 columns</p>\n",
       "</div>"
      ]
     },
     "execution_count": 4,
     "metadata": {},
     "output_type": "execute_result"
    }
   ],
   "execution_count": 4
  },
  {
   "metadata": {
    "ExecuteTime": {
     "end_time": "2025-02-26T17:45:54.538319Z",
     "start_time": "2025-02-26T17:44:50.677707Z"
    }
   },
   "cell_type": "code",
   "source": [
    "# 결측치 비율 계산 및 29% 이상인 컬럼 리스트 생성\n",
    "threshold = 0.29\n",
    "missing_ratio = df.isnull().mean()       # 각 컬럼의 결측치 비율 계산\n",
    "cols_with_missing = missing_ratio[missing_ratio >= threshold].index.tolist()  # 29% 이상인 컬럼 선택\n",
    "\n",
    "df = df.drop(columns=cols_with_missing)\n",
    "df.to_csv(\"./Data_v1.csv\", index=False)\n"
   ],
   "id": "270ed27c3b919fd3",
   "outputs": [],
   "execution_count": 11
  },
  {
   "metadata": {},
   "cell_type": "markdown",
   "source": [
    "### EDA MEMO\n",
    "+ 'open_acc_6m', 'open_act_il', 'open_il_12m', 'open_il_24m', 'mths_since_rcnt_il', 'total_bal_il', 'il_util', 'open_rv_12m', 'open_rv_24m', 'max_bal_bc', 'all_util', 'inq_fi', 'total_cu_tl', 'inq_last_12m'\n",
    "+ 결측치가 29.84%이상, 52만개 이상인 칼럼들. 칼럼을 드랍하고 결측치를 보강한다음 Feature Selection을 진행한다. 추후 다시 포함시킬지 고민."
   ],
   "id": "62dc2289a7d7bea9"
  },
  {
   "metadata": {
    "ExecuteTime": {
     "end_time": "2025-02-26T18:15:00.661827Z",
     "start_time": "2025-02-26T18:14:48.202118Z"
    }
   },
   "cell_type": "code",
   "source": [
    "# 데이터 로드\n",
    "df = pd.read_csv(\"./Data_v1.csv\")\n",
    "\n",
    "# 수치형 데이터(숫자형 컬럼)만 선택\n",
    "df_numeric = df.select_dtypes(include=['number'])\n",
    "\n",
    "# 각 수치형 컬럼의 결측치 개수 계산\n",
    "missing_counts = df_numeric.isnull().sum()\n",
    "missing_counts = missing_counts[missing_counts > 0]\n",
    "\n",
    "# 결측치 비율 계산 (전체 행 수에 대한 비율)\n",
    "missing_ratios = missing_counts / len(df)\n",
    "\n",
    "# 결측치 개수와 비율을 하나의 DataFrame으로 생성한 후, 결측치 개수를 기준으로 내림차순 정렬\n",
    "missing_df = pd.DataFrame({\n",
    "    'Missing Count': missing_counts,\n",
    "    'Missing Ratio': missing_ratios\n",
    "}).sort_values(by='Missing Count', ascending=False)\n",
    "\n",
    "missing_df\n"
   ],
   "id": "d156cdde2fd676b1",
   "outputs": [
    {
     "data": {
      "text/plain": [
       "                       Missing Count  Missing Ratio\n",
       "mths_since_recent_inq         222767   1.269114e-01\n",
       "mo_sin_old_il_acct             93246   5.312269e-02\n",
       "bc_util                        50390   2.870743e-02\n",
       "percent_bc_gt_75               49831   2.838896e-02\n",
       "bc_open_to_buy                 49537   2.822147e-02\n",
       "...                              ...            ...\n",
       "funded_amnt                        1   5.697048e-07\n",
       "funded_amnt_inv                    1   5.697048e-07\n",
       "fico_range_low                     1   5.697048e-07\n",
       "fico_range_high                    1   5.697048e-07\n",
       "revol_bal                          1   5.697048e-07\n",
       "\n",
       "[62 rows x 2 columns]"
      ],
      "text/html": [
       "<div>\n",
       "<style scoped>\n",
       "    .dataframe tbody tr th:only-of-type {\n",
       "        vertical-align: middle;\n",
       "    }\n",
       "\n",
       "    .dataframe tbody tr th {\n",
       "        vertical-align: top;\n",
       "    }\n",
       "\n",
       "    .dataframe thead th {\n",
       "        text-align: right;\n",
       "    }\n",
       "</style>\n",
       "<table border=\"1\" class=\"dataframe\">\n",
       "  <thead>\n",
       "    <tr style=\"text-align: right;\">\n",
       "      <th></th>\n",
       "      <th>Missing Count</th>\n",
       "      <th>Missing Ratio</th>\n",
       "    </tr>\n",
       "  </thead>\n",
       "  <tbody>\n",
       "    <tr>\n",
       "      <th>mths_since_recent_inq</th>\n",
       "      <td>222767</td>\n",
       "      <td>1.269114e-01</td>\n",
       "    </tr>\n",
       "    <tr>\n",
       "      <th>mo_sin_old_il_acct</th>\n",
       "      <td>93246</td>\n",
       "      <td>5.312269e-02</td>\n",
       "    </tr>\n",
       "    <tr>\n",
       "      <th>bc_util</th>\n",
       "      <td>50390</td>\n",
       "      <td>2.870743e-02</td>\n",
       "    </tr>\n",
       "    <tr>\n",
       "      <th>percent_bc_gt_75</th>\n",
       "      <td>49831</td>\n",
       "      <td>2.838896e-02</td>\n",
       "    </tr>\n",
       "    <tr>\n",
       "      <th>bc_open_to_buy</th>\n",
       "      <td>49537</td>\n",
       "      <td>2.822147e-02</td>\n",
       "    </tr>\n",
       "    <tr>\n",
       "      <th>...</th>\n",
       "      <td>...</td>\n",
       "      <td>...</td>\n",
       "    </tr>\n",
       "    <tr>\n",
       "      <th>funded_amnt</th>\n",
       "      <td>1</td>\n",
       "      <td>5.697048e-07</td>\n",
       "    </tr>\n",
       "    <tr>\n",
       "      <th>funded_amnt_inv</th>\n",
       "      <td>1</td>\n",
       "      <td>5.697048e-07</td>\n",
       "    </tr>\n",
       "    <tr>\n",
       "      <th>fico_range_low</th>\n",
       "      <td>1</td>\n",
       "      <td>5.697048e-07</td>\n",
       "    </tr>\n",
       "    <tr>\n",
       "      <th>fico_range_high</th>\n",
       "      <td>1</td>\n",
       "      <td>5.697048e-07</td>\n",
       "    </tr>\n",
       "    <tr>\n",
       "      <th>revol_bal</th>\n",
       "      <td>1</td>\n",
       "      <td>5.697048e-07</td>\n",
       "    </tr>\n",
       "  </tbody>\n",
       "</table>\n",
       "<p>62 rows × 2 columns</p>\n",
       "</div>"
      ]
     },
     "execution_count": 15,
     "metadata": {},
     "output_type": "execute_result"
    }
   ],
   "execution_count": 15
  },
  {
   "metadata": {},
   "cell_type": "markdown",
   "source": [
    "# EDA MEMO\n",
    "+ Object 타입 데이터 빼고 수치형 데이터 먼저 결측치 처리"
   ],
   "id": "88464830d9ccfee4"
  }
 ],
 "metadata": {
  "kernelspec": {
   "display_name": "Python 3",
   "language": "python",
   "name": "python3"
  },
  "language_info": {
   "codemirror_mode": {
    "name": "ipython",
    "version": 2
   },
   "file_extension": ".py",
   "mimetype": "text/x-python",
   "name": "python",
   "nbconvert_exporter": "python",
   "pygments_lexer": "ipython2",
   "version": "2.7.6"
  }
 },
 "nbformat": 4,
 "nbformat_minor": 5
}
