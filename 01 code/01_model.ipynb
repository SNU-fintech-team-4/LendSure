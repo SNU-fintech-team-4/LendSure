{
  "cells": [
    {
      "cell_type": "code",
      "execution_count": 1,
      "id": "8cfe3ea2f7fb3f31",
      "metadata": {
        "ExecuteTime": {
          "end_time": "2025-03-05T00:24:12.807122Z",
          "start_time": "2025-03-05T00:24:12.085245Z"
        },
        "id": "8cfe3ea2f7fb3f31"
      },
      "outputs": [],
      "source": [
        "# 기본 사용 library import\n",
        "import os\n",
        "import pandas as pd\n",
        "import numpy as np\n",
        "import matplotlib.pyplot as plt\n",
        "\n",
        "# 분류모델 기본 library import\n",
        "from sklearn.metrics import (\n",
        "    accuracy_score,\n",
        "    classification_report,\n",
        "    f1_score,\n",
        "    precision_score,\n",
        "    recall_score,\n",
        "    confusion_matrix\n",
        ")\n",
        "from sklearn.model_selection import train_test_split\n",
        "\n",
        "# base model import\n",
        "import xgboost as xgb\n",
        "import lightgbm as lgb\n",
        "\n",
        "# model과 사용되는 library import\n",
        "from tqdm import tqdm\n",
        "import joblib"
      ]
    },
    {
      "cell_type": "code",
      "execution_count": 2,
      "id": "44e319c5",
      "metadata": {},
      "outputs": [
        {
          "name": "stdout",
          "output_type": "stream",
          "text": [
            "Current Working Directory: /Users/hyunbin/Library/CloudStorage/OneDrive-Personal/05 빅데이터 전문가 과정/01 통계 데이터 사이언스/00 팀플/final/new\n"
          ]
        }
      ],
      "source": [
        "## working directory 설정\n",
        "new_working_directory = \"/Users/hyunbin/Library/CloudStorage/OneDrive-Personal/05 빅데이터 전문가 과정/01 통계 데이터 사이언스/00 팀플/final/new\"\n",
        "os.chdir(new_working_directory)\n",
        "\n",
        "print(\"Current Working Directory:\", os.getcwd())"
      ]
    },
    {
      "cell_type": "markdown",
      "id": "1a410b07",
      "metadata": {},
      "source": [
        "# 가. 데이터 불러오기"
      ]
    },
    {
      "cell_type": "code",
      "execution_count": 3,
      "id": "4183c8a1",
      "metadata": {},
      "outputs": [],
      "source": [
        "train_raw = pd.read_csv(\"./00 data/train_trd_timeline.csv\")\n",
        "tbill = pd.read_csv(\"./00 data/tbill_15_mod.csv\")"
      ]
    },
    {
      "cell_type": "code",
      "execution_count": 4,
      "id": "5a7f870c",
      "metadata": {},
      "outputs": [],
      "source": [
        "## 원본데이터 보호\n",
        "train_data = train_raw.copy()"
      ]
    },
    {
      "cell_type": "markdown",
      "id": "e71c8d73",
      "metadata": {},
      "source": [
        "# 나. 수익률 계산하기"
      ]
    },
    {
      "cell_type": "code",
      "execution_count": 5,
      "id": "b51112f2",
      "metadata": {},
      "outputs": [
        {
          "name": "stderr",
          "output_type": "stream",
          "text": [
            "/var/folders/yb/vl5rylzx0dv4gxwytw3c2h080000gn/T/ipykernel_4754/1174221417.py:2: UserWarning: Could not infer format, so each element will be parsed individually, falling back to `dateutil`. To ensure parsing is consistent and as-expected, please specify a format.\n",
            "  train_data['issue_d'] = pd.to_datetime(train_data['issue_d'], errors='coerce')\n",
            "/var/folders/yb/vl5rylzx0dv4gxwytw3c2h080000gn/T/ipykernel_4754/1174221417.py:3: UserWarning: Could not infer format, so each element will be parsed individually, falling back to `dateutil`. To ensure parsing is consistent and as-expected, please specify a format.\n",
            "  tbill['observation_date'] = pd.to_datetime(tbill['observation_date'], errors='coerce')\n"
          ]
        }
      ],
      "source": [
        "## 날짜 데이터 타입을 datetime으로 통일\n",
        "train_data['issue_d'] = pd.to_datetime(train_data['issue_d'], errors='coerce')\n",
        "tbill['observation_date'] = pd.to_datetime(tbill['observation_date'], errors='coerce')\n",
        "\n",
        "\n",
        "## train_data와 tbill을 'issue_d'와 'observation_date'를 기준으로 병합\n",
        "train_data = pd.merge(train_data, tbill,\n",
        "                       left_on='issue_d', right_on='observation_date',\n",
        "                       how='left')\n",
        "\n",
        "## data frame 정비\n",
        "train_data = train_data.rename(columns={'DTB3': 'rf_rate'})  # 'DTB3' 컬럼 이름을 'rf_rate'로 변경\n",
        "train_data = train_data.drop(columns=['issue_d', 'observation_date'], errors='ignore')  # 'issue_d'와 'observation_date' 열 삭제\n"
      ]
    },
    {
      "cell_type": "code",
      "execution_count": 6,
      "id": "033e7e76",
      "metadata": {},
      "outputs": [],
      "source": [
        "## 수익률 산출\n",
        "train_data['earning_rate'] = train_data['int_rate']-train_data['rf_rate']\n",
        "train_data = train_data.drop(columns=['rf_rate'], errors='ignore')\n",
        "\n",
        "## 소수 셋째자리에서 반올림\n",
        "train_data['earning_rate'] = train_data['earning_rate'].round(3)"
      ]
    },
    {
      "cell_type": "markdown",
      "id": "4c04fa4b",
      "metadata": {},
      "source": [
        "# 다. 모델 돌리기"
      ]
    },
    {
      "cell_type": "code",
      "execution_count": 7,
      "id": "fd8a41fe02e82523",
      "metadata": {
        "colab": {
          "base_uri": "https://localhost:8080/",
          "height": 176
        },
        "id": "fd8a41fe02e82523",
        "outputId": "87acb54d-c20c-4e3d-e682-6705d782ad00"
      },
      "outputs": [
        {
          "data": {
            "text/plain": [
              "loan_status\n",
              "0    824123\n",
              "1    197245\n",
              "Name: count, dtype: int64"
            ]
          },
          "execution_count": 7,
          "metadata": {},
          "output_type": "execute_result"
        }
      ],
      "source": [
        "## loan_status 확인\n",
        "train_data[\"loan_status\"].value_counts()"
      ]
    },
    {
      "cell_type": "code",
      "execution_count": 8,
      "id": "9xa-4N2K2yhB",
      "metadata": {
        "id": "9xa-4N2K2yhB"
      },
      "outputs": [],
      "source": [
        "## random seed 설정\n",
        "RANDOM_SEED = 40"
      ]
    },
    {
      "cell_type": "code",
      "execution_count": 9,
      "id": "fcf9c01d1a68fff",
      "metadata": {
        "ExecuteTime": {
          "end_time": "2025-03-05T01:37:46.541338Z",
          "start_time": "2025-03-05T01:37:44.079693Z"
        },
        "colab": {
          "base_uri": "https://localhost:8080/"
        },
        "id": "fcf9c01d1a68fff",
        "outputId": "516aa208-8934-41f6-b3d4-af5952116818"
      },
      "outputs": [
        {
          "name": "stdout",
          "output_type": "stream",
          "text": [
            "Train set size: 612820 rows\n",
            "Validation set size: 204274 rows\n",
            "Test set size: 204274 rows\n"
          ]
        }
      ],
      "source": [
        "## 데이터 준비\n",
        "X = train_data.drop('loan_status', axis=1)\n",
        "y = train_data['loan_status']\n",
        "\n",
        "# bool타입 정수형으로\n",
        "# XGBoost가 bool type를 처리할 때 문제를 발생시키는 경우가 있음\n",
        "bool_columns = X.select_dtypes(include=['bool']).columns.tolist()\n",
        "X[bool_columns] = X[bool_columns].astype(int)\n",
        "\n",
        "# train, validation, test 구분\n",
        "X_train, X_test, y_train, y_test = train_test_split(X, y, test_size=0.2, random_state=RANDOM_SEED, stratify=y)\n",
        "X_train, X_valid, y_train, y_valid = train_test_split(X_train, y_train, test_size=0.2/0.8, random_state=RANDOM_SEED, stratify=y_train)\n",
        "\n",
        "# earning_rate열 drop 시키기\n",
        "X_train = X_train.drop('earning_rate', axis=1)\n",
        "X_valid = X_valid.drop('earning_rate', axis=1)\n",
        "X_test_ = X_test.copy() # earning_rate 뽑아내기 위한 것\n",
        "X_test = X_test.drop('earning_rate', axis=1)\n",
        "\n",
        "# 출력해서 확인\n",
        "print(f\"Train set size: {X_train.shape[0]} rows\")\n",
        "print(f\"Validation set size: {X_valid.shape[0]} rows\")\n",
        "print(f\"Test set size: {X_test.shape[0]} rows\")\n"
      ]
    },
    {
      "cell_type": "markdown",
      "id": "oVr7Fk473N3R",
      "metadata": {
        "id": "oVr7Fk473N3R"
      },
      "source": [
        "## 다-1. XGBoost"
      ]
    },
    {
      "cell_type": "markdown",
      "id": "jhvdUlH076LX",
      "metadata": {
        "id": "jhvdUlH076LX"
      },
      "source": [
        "### 다-1-1. initial training"
      ]
    },
    {
      "cell_type": "markdown",
      "id": "269a751e",
      "metadata": {},
      "source": [
        "#### 다-1-1-1. training"
      ]
    },
    {
      "cell_type": "code",
      "execution_count": 10,
      "id": "bafa4c47ae431754",
      "metadata": {
        "ExecuteTime": {
          "end_time": "2025-03-05T01:38:00.499213Z",
          "start_time": "2025-03-05T01:37:53.848473Z"
        },
        "id": "bafa4c47ae431754"
      },
      "outputs": [],
      "source": [
        "## DMatrix 생성\n",
        "dtrain = xgb.DMatrix(X_train, label=y_train)\n",
        "dvalid = xgb.DMatrix(X_valid, label=y_valid)\n",
        "dtest  = xgb.DMatrix(X_test, label=y_test)\n",
        "\n",
        "xgb_params = {\n",
        "    'objective': 'binary:logistic',\n",
        "    'eval_metric': 'logloss',\n",
        "    'random_state': RANDOM_SEED\n",
        "}\n",
        "\n",
        "watchlist = [(dtrain, 'train'), (dvalid, 'valid')]"
      ]
    },
    {
      "cell_type": "code",
      "execution_count": 11,
      "id": "CeZ88cGPA_nw",
      "metadata": {
        "colab": {
          "base_uri": "https://localhost:8080/"
        },
        "id": "CeZ88cGPA_nw",
        "outputId": "50775d91-8e8d-4086-945a-13e730e352d1"
      },
      "outputs": [
        {
          "name": "stdout",
          "output_type": "stream",
          "text": [
            "[0]\ttrain-logloss:0.37134\tvalid-logloss:0.37169\n",
            "[1]\ttrain-logloss:0.31775\tvalid-logloss:0.31839\n",
            "[2]\ttrain-logloss:0.28580\tvalid-logloss:0.28664\n",
            "[3]\ttrain-logloss:0.26549\tvalid-logloss:0.26654\n",
            "[4]\ttrain-logloss:0.25205\tvalid-logloss:0.25332\n",
            "[5]\ttrain-logloss:0.24310\tvalid-logloss:0.24455\n",
            "[6]\ttrain-logloss:0.23690\tvalid-logloss:0.23859\n",
            "[7]\ttrain-logloss:0.23264\tvalid-logloss:0.23454\n",
            "[8]\ttrain-logloss:0.22965\tvalid-logloss:0.23182\n",
            "[9]\ttrain-logloss:0.22755\tvalid-logloss:0.22990\n",
            "[10]\ttrain-logloss:0.22597\tvalid-logloss:0.22850\n",
            "[11]\ttrain-logloss:0.22484\tvalid-logloss:0.22752\n",
            "[12]\ttrain-logloss:0.22389\tvalid-logloss:0.22676\n",
            "[13]\ttrain-logloss:0.22325\tvalid-logloss:0.22626\n",
            "[14]\ttrain-logloss:0.22264\tvalid-logloss:0.22592\n",
            "[15]\ttrain-logloss:0.22202\tvalid-logloss:0.22551\n",
            "[16]\ttrain-logloss:0.22154\tvalid-logloss:0.22525\n",
            "[17]\ttrain-logloss:0.22105\tvalid-logloss:0.22498\n",
            "[18]\ttrain-logloss:0.22073\tvalid-logloss:0.22486\n",
            "[19]\ttrain-logloss:0.22025\tvalid-logloss:0.22459\n",
            "[20]\ttrain-logloss:0.21989\tvalid-logloss:0.22444\n",
            "[21]\ttrain-logloss:0.21956\tvalid-logloss:0.22434\n",
            "[22]\ttrain-logloss:0.21925\tvalid-logloss:0.22420\n",
            "[23]\ttrain-logloss:0.21897\tvalid-logloss:0.22408\n",
            "[24]\ttrain-logloss:0.21853\tvalid-logloss:0.22384\n",
            "[25]\ttrain-logloss:0.21825\tvalid-logloss:0.22377\n",
            "[26]\ttrain-logloss:0.21809\tvalid-logloss:0.22374\n",
            "[27]\ttrain-logloss:0.21780\tvalid-logloss:0.22367\n",
            "[28]\ttrain-logloss:0.21758\tvalid-logloss:0.22364\n",
            "[29]\ttrain-logloss:0.21734\tvalid-logloss:0.22357\n",
            "[30]\ttrain-logloss:0.21707\tvalid-logloss:0.22353\n",
            "[31]\ttrain-logloss:0.21696\tvalid-logloss:0.22352\n",
            "[32]\ttrain-logloss:0.21641\tvalid-logloss:0.22314\n",
            "[33]\ttrain-logloss:0.21617\tvalid-logloss:0.22312\n",
            "[34]\ttrain-logloss:0.21594\tvalid-logloss:0.22311\n",
            "[35]\ttrain-logloss:0.21572\tvalid-logloss:0.22312\n",
            "[36]\ttrain-logloss:0.21548\tvalid-logloss:0.22314\n",
            "[37]\ttrain-logloss:0.21529\tvalid-logloss:0.22304\n",
            "[38]\ttrain-logloss:0.21492\tvalid-logloss:0.22288\n",
            "[39]\ttrain-logloss:0.21478\tvalid-logloss:0.22288\n",
            "[40]\ttrain-logloss:0.21460\tvalid-logloss:0.22286\n",
            "[41]\ttrain-logloss:0.21436\tvalid-logloss:0.22279\n",
            "[42]\ttrain-logloss:0.21419\tvalid-logloss:0.22277\n",
            "[43]\ttrain-logloss:0.21398\tvalid-logloss:0.22270\n",
            "[44]\ttrain-logloss:0.21388\tvalid-logloss:0.22262\n",
            "[45]\ttrain-logloss:0.21379\tvalid-logloss:0.22263\n",
            "[46]\ttrain-logloss:0.21356\tvalid-logloss:0.22265\n",
            "[47]\ttrain-logloss:0.21344\tvalid-logloss:0.22260\n",
            "[48]\ttrain-logloss:0.21322\tvalid-logloss:0.22255\n",
            "[49]\ttrain-logloss:0.21305\tvalid-logloss:0.22255\n",
            "[50]\ttrain-logloss:0.21283\tvalid-logloss:0.22249\n",
            "[51]\ttrain-logloss:0.21275\tvalid-logloss:0.22250\n",
            "[52]\ttrain-logloss:0.21261\tvalid-logloss:0.22245\n",
            "[53]\ttrain-logloss:0.21242\tvalid-logloss:0.22243\n",
            "[54]\ttrain-logloss:0.21209\tvalid-logloss:0.22228\n",
            "[55]\ttrain-logloss:0.21202\tvalid-logloss:0.22229\n",
            "[56]\ttrain-logloss:0.21181\tvalid-logloss:0.22229\n",
            "[57]\ttrain-logloss:0.21163\tvalid-logloss:0.22230\n",
            "[58]\ttrain-logloss:0.21142\tvalid-logloss:0.22211\n",
            "[59]\ttrain-logloss:0.21131\tvalid-logloss:0.22212\n",
            "[60]\ttrain-logloss:0.21118\tvalid-logloss:0.22212\n",
            "[61]\ttrain-logloss:0.21104\tvalid-logloss:0.22215\n",
            "[62]\ttrain-logloss:0.21083\tvalid-logloss:0.22217\n",
            "[63]\ttrain-logloss:0.21067\tvalid-logloss:0.22218\n",
            "[64]\ttrain-logloss:0.21048\tvalid-logloss:0.22218\n",
            "[65]\ttrain-logloss:0.21019\tvalid-logloss:0.22206\n",
            "[66]\ttrain-logloss:0.20999\tvalid-logloss:0.22202\n",
            "[67]\ttrain-logloss:0.20976\tvalid-logloss:0.22204\n",
            "[68]\ttrain-logloss:0.20965\tvalid-logloss:0.22205\n",
            "[69]\ttrain-logloss:0.20951\tvalid-logloss:0.22207\n",
            "[70]\ttrain-logloss:0.20932\tvalid-logloss:0.22207\n",
            "[71]\ttrain-logloss:0.20908\tvalid-logloss:0.22201\n",
            "[72]\ttrain-logloss:0.20894\tvalid-logloss:0.22193\n",
            "[73]\ttrain-logloss:0.20870\tvalid-logloss:0.22188\n",
            "[74]\ttrain-logloss:0.20850\tvalid-logloss:0.22178\n",
            "[75]\ttrain-logloss:0.20842\tvalid-logloss:0.22179\n",
            "[76]\ttrain-logloss:0.20838\tvalid-logloss:0.22180\n",
            "[77]\ttrain-logloss:0.20823\tvalid-logloss:0.22177\n",
            "[78]\ttrain-logloss:0.20816\tvalid-logloss:0.22176\n",
            "[79]\ttrain-logloss:0.20804\tvalid-logloss:0.22174\n",
            "[80]\ttrain-logloss:0.20784\tvalid-logloss:0.22176\n",
            "[81]\ttrain-logloss:0.20777\tvalid-logloss:0.22177\n",
            "[82]\ttrain-logloss:0.20775\tvalid-logloss:0.22177\n",
            "[83]\ttrain-logloss:0.20769\tvalid-logloss:0.22179\n",
            "[84]\ttrain-logloss:0.20752\tvalid-logloss:0.22179\n",
            "[85]\ttrain-logloss:0.20737\tvalid-logloss:0.22181\n",
            "[86]\ttrain-logloss:0.20720\tvalid-logloss:0.22184\n",
            "[87]\ttrain-logloss:0.20707\tvalid-logloss:0.22184\n",
            "[88]\ttrain-logloss:0.20693\tvalid-logloss:0.22186\n",
            "[89]\ttrain-logloss:0.20678\tvalid-logloss:0.22187\n"
          ]
        }
      ],
      "source": [
        "## 모델 학습\n",
        "xgb_model = xgb.train(\n",
        "    xgb_params,\n",
        "    dtrain,\n",
        "    num_boost_round=500,\n",
        "    evals=watchlist,\n",
        "    early_stopping_rounds=10,\n",
        "    verbose_eval=True\n",
        ")"
      ]
    },
    {
      "cell_type": "markdown",
      "id": "sp7FyjVuU19W",
      "metadata": {
        "id": "sp7FyjVuU19W"
      },
      "source": [
        "#### 다-1-1-2. feature importance visualization"
      ]
    },
    {
      "cell_type": "code",
      "execution_count": 12,
      "id": "1UvP0ygdU6BY",
      "metadata": {
        "colab": {
          "base_uri": "https://localhost:8080/"
        },
        "id": "1UvP0ygdU6BY",
        "outputId": "0b52cf0b-f9aa-42e7-cdf4-d47c50ecfd0b"
      },
      "outputs": [
        {
          "name": "stdout",
          "output_type": "stream",
          "text": [
            "최종 선택된 feature 갯수 30\n",
            "최종 선택된 Top 30 Features: ['emp_length', 'dti', 'revol_util', 'fico_avg', 'last_fico_range_high', 'int_rate', 'annual_inc', 'installment', 'bc_open_to_buy', 'revol_bal', 'avg_cur_bal', 'total_bc_limit', 'total_rev_hi_lim', 'bc_util', 'total_acc', 'num_il_tl', 'sub_grade', 'num_bc_tl', 'num_rev_accts', 'pct_tl_nvr_dlq', 'total_il_high_credit_limit', 'acc_open_past_24mths', 'total_bal_ex_mort', 'tot_cur_bal', 'tot_hi_cred_lim', 'funded_amnt_inv', 'funded_amnt', 'term', 'mort_acc', 'num_bc_sats']\n"
          ]
        }
      ],
      "source": [
        "## 01.feature importance dataframe 설정\n",
        "xgb_importance_df = pd.DataFrame({\n",
        "    'Feature': list(xgb_model.get_score(importance_type='weight').keys()),\n",
        "    'Importance': list(xgb_model.get_score(importance_type='weight').values())\n",
        "}).sort_values(by='Importance', ascending=False)\n",
        "\n",
        "## 02. 도메인 feature 필터링 (데이터에 존재하는 것만)\n",
        "domain_features = ['emp_length', 'dti', 'revol_util', 'fico_avg']\n",
        "existing_domain_features = [\n",
        "    feat for feat in domain_features if feat in xgb_importance_df['Feature'].values\n",
        "]\n",
        "\n",
        "## 03. 중요도 상위 feature (도메인 feature 제외)\n",
        "top_features = xgb_importance_df[\n",
        "    ~xgb_importance_df['Feature'].isin(domain_features)  # 도메인 feature 제외\n",
        "].head(30 - len(existing_domain_features))  # 최대 20 - (이미 선택된 도메인 feature 수) 개\n",
        "\n",
        "## 04. 최종 feature 결합 (도메인 feature + 중요도 상위 feature)\n",
        "selected_features = existing_domain_features + top_features['Feature'].tolist()\n",
        "print(\"최종 선택된 feature 갯수\", len(selected_features))\n",
        "print(\"최종 선택된 Top 30 Features:\", selected_features)\n",
        "\n",
        "## 05. 선택된 feature에 해당하는 데이터프레임 생성 (중요도 순으로)\n",
        "df_top30 = xgb_importance_df[xgb_importance_df['Feature'].isin(selected_features)]\n",
        "df_top30 = df_top30.sort_values(by='Importance', ascending=False)"
      ]
    },
    {
      "cell_type": "code",
      "execution_count": 13,
      "id": "ox8NBJ_7VZhu",
      "metadata": {
        "colab": {
          "base_uri": "https://localhost:8080/",
          "height": 564
        },
        "id": "ox8NBJ_7VZhu",
        "outputId": "c49db824-7edd-4a75-99b8-2269de5afb8c"
      },
      "outputs": [
        {
          "data": {
            "image/png": "[encoded data removed]",
            "text/plain": [
              "<Figure size 800x600 with 1 Axes>"
            ]
          },
          "metadata": {},
          "output_type": "display_data"
        }
      ],
      "source": [
        "## feature importance visualization\n",
        "def plot_feature_importance(df, title, color='skyblue'):\n",
        "    plt.figure(figsize=(8, 6))\n",
        "    plt.barh(df['Feature'], df['Importance'], color=color)\n",
        "    plt.gca().invert_yaxis()\n",
        "    plt.title(title)\n",
        "    plt.xlabel(\"Importance\")\n",
        "    plt.show()\n",
        "\n",
        "plot_feature_importance(df_top30, \"XGBoost Feature Importance (Initial Training, Top 30)\", 'lightgreen')"
      ]
    },
    {
      "cell_type": "markdown",
      "id": "8e080ee8",
      "metadata": {},
      "source": [
        "### 다-1-2. Re-trainig"
      ]
    },
    {
      "cell_type": "markdown",
      "id": "056de20d",
      "metadata": {},
      "source": [
        "#### 다-1-2-1. training"
      ]
    },
    {
      "cell_type": "code",
      "execution_count": 14,
      "id": "5cbf2a5d",
      "metadata": {},
      "outputs": [],
      "source": [
        "## 01.feature importance dataframe 설정\n",
        "def get_selected_features(xgb_model, domain_features=['dti', 'revol_util', 'fico_avg']):\n",
        "    \"\"\"\n",
        "    feature importance를 계산하고, 상위 특징(도메인 특징 포함)을 선택합니다,\n",
        "    selected features를 return\n",
        "    \"\"\"\n",
        "    ## 01. feature importance dataframe 설정\n",
        "    xgb_importance_df = pd.DataFrame({\n",
        "        'Feature': list(xgb_model.get_score(importance_type='weight').keys()),\n",
        "        'Importance': list(xgb_model.get_score(importance_type='weight').values())\n",
        "    }).sort_values(by='Importance', ascending=False)\n",
        "\n",
        "    ## 02. 도메인 feature 필터링 (데이터에 존재하는 것만)\n",
        "    existing_domain_features = [\n",
        "        feat for feat in domain_features if feat in xgb_importance_df['Feature'].values\n",
        "    ]\n",
        "\n",
        "    ## 03. 중요도 상위 feature (도메인 feature 제외)\n",
        "    top_features = xgb_importance_df[\n",
        "        ~xgb_importance_df['Feature'].isin(domain_features)  # 도메인 feature 제외\n",
        "    ].head(30 - len(existing_domain_features))  # 최대 30 - (이미 선택된 도메인 feature 수) 개\n",
        "\n",
        "    ## 04. 최종 feature 결합 (도메인 feature + 중요도 상위 feature)\n",
        "    selected_features = existing_domain_features + top_features['Feature'].tolist()\n",
        "    return selected_features\n",
        "\n",
        "##  02 selected features 활용하여 새로운 X, y 만들기\n",
        "def create_datasets_with_selected_features(X, y, selected_features, test_size=0.2, valid_size=0.25, random_state=42):\n",
        "    \"\"\"\n",
        "    선택된 기능만으로 학습, 검증 및 테스트 데이터셋을 만든다.\n",
        "\n",
        "    Args:\n",
        "        X: Original feature DataFrame.\n",
        "        y: Original target Series.\n",
        "        selected_features: 선택된 기능 목록.\n",
        "        test_size: 테스트 세트에 사용할 데이터의 비율\n",
        "        valid_size: 검증에 사용할 훈련 데이터의 비율\n",
        "                     (참고: 전체 유효 크기는 유효한_size * (1-검정_size))\n",
        "        random_state: 재현성을 위한 랜덤 시드\n",
        "\n",
        "    Returns:\n",
        "      X_train, X_valid, X_test, y_train, y_valid, y_test\n",
        "    \"\"\"\n",
        "    # X feature 선택\n",
        "    if not all(feature in X.columns for feature in selected_features):\n",
        "        missing_features = [feature for feature in selected_features if feature not in X.columns]\n",
        "        raise ValueError(f\"The following features are not present in X: {missing_features}\")\n",
        "    \n",
        "    X_selected = X[selected_features]\n",
        "\n",
        "\n",
        "    # Train/test split (initial split의 결과와 동일하게)\n",
        "    X_train_temp, X_test, y_train_temp, y_test = train_test_split(\n",
        "        X_selected, y, test_size=test_size, random_state=random_state\n",
        "    )\n",
        "    X_train, X_valid, y_train, y_valid = train_test_split(\n",
        "        X_train_temp, y_train_temp, test_size=valid_size, random_state=random_state\n",
        "    )\n",
        "\n",
        "    return X_train, X_valid, X_test, y_train, y_valid, y_test\n",
        "\n",
        "## 03 XGBoost Model training 시키기\n",
        "def train_xgboost_model(X_train, y_train, X_valid, y_valid, params=None, num_boost_round=500):\n",
        "\n",
        "    dtrain = xgb.DMatrix(X_train, label=y_train)\n",
        "    dvalid = xgb.DMatrix(X_valid, label=y_valid)\n",
        "\n",
        "    if params is None:\n",
        "        params = {\n",
        "            'objective': 'binary:logistic',\n",
        "            'eval_metric': ['logloss', 'auc'],\n",
        "            'random_state': RANDOM_SEED\n",
        "        }\n",
        "\n",
        "    watchlist = [(dtrain, 'train'), (dvalid, 'valid')]\n",
        "    model = xgb.train(params, dtrain, num_boost_round=num_boost_round,\n",
        "                      evals=watchlist,\n",
        "                      verbose_eval=True)\n",
        "    return model"
      ]
    },
    {
      "cell_type": "code",
      "execution_count": 15,
      "id": "fc6b7922",
      "metadata": {},
      "outputs": [
        {
          "name": "stdout",
          "output_type": "stream",
          "text": [
            "[0]\ttrain-logloss:0.37148\ttrain-auc:0.94186\tvalid-logloss:0.37216\tvalid-auc:0.94143\n",
            "[1]\ttrain-logloss:0.31795\ttrain-auc:0.94326\tvalid-logloss:0.31879\tvalid-auc:0.94270\n",
            "[2]\ttrain-logloss:0.28612\ttrain-auc:0.94398\tvalid-logloss:0.28711\tvalid-auc:0.94330\n",
            "[3]\ttrain-logloss:0.26587\ttrain-auc:0.94459\tvalid-logloss:0.26702\tvalid-auc:0.94378\n",
            "[4]\ttrain-logloss:0.25244\ttrain-auc:0.94498\tvalid-logloss:0.25386\tvalid-auc:0.94403\n",
            "[5]\ttrain-logloss:0.24356\ttrain-auc:0.94531\tvalid-logloss:0.24522\tvalid-auc:0.94420\n",
            "[6]\ttrain-logloss:0.23750\ttrain-auc:0.94565\tvalid-logloss:0.23934\tvalid-auc:0.94450\n",
            "[7]\ttrain-logloss:0.23329\ttrain-auc:0.94603\tvalid-logloss:0.23538\tvalid-auc:0.94475\n",
            "[8]\ttrain-logloss:0.23033\ttrain-auc:0.94637\tvalid-logloss:0.23263\tvalid-auc:0.94499\n",
            "[9]\ttrain-logloss:0.22824\ttrain-auc:0.94669\tvalid-logloss:0.23073\tvalid-auc:0.94524\n",
            "[10]\ttrain-logloss:0.22670\ttrain-auc:0.94703\tvalid-logloss:0.22942\tvalid-auc:0.94544\n",
            "[11]\ttrain-logloss:0.22556\ttrain-auc:0.94727\tvalid-logloss:0.22851\tvalid-auc:0.94555\n",
            "[12]\ttrain-logloss:0.22469\ttrain-auc:0.94751\tvalid-logloss:0.22785\tvalid-auc:0.94568\n",
            "[13]\ttrain-logloss:0.22400\ttrain-auc:0.94773\tvalid-logloss:0.22737\tvalid-auc:0.94583\n",
            "[14]\ttrain-logloss:0.22344\ttrain-auc:0.94794\tvalid-logloss:0.22697\tvalid-auc:0.94596\n",
            "[15]\ttrain-logloss:0.22295\ttrain-auc:0.94819\tvalid-logloss:0.22670\tvalid-auc:0.94604\n",
            "[16]\ttrain-logloss:0.22249\ttrain-auc:0.94838\tvalid-logloss:0.22647\tvalid-auc:0.94614\n",
            "[17]\ttrain-logloss:0.22211\ttrain-auc:0.94860\tvalid-logloss:0.22628\tvalid-auc:0.94621\n",
            "[18]\ttrain-logloss:0.22174\ttrain-auc:0.94877\tvalid-logloss:0.22616\tvalid-auc:0.94624\n",
            "[19]\ttrain-logloss:0.22135\ttrain-auc:0.94896\tvalid-logloss:0.22590\tvalid-auc:0.94635\n",
            "[20]\ttrain-logloss:0.22102\ttrain-auc:0.94912\tvalid-logloss:0.22580\tvalid-auc:0.94639\n",
            "[21]\ttrain-logloss:0.22075\ttrain-auc:0.94924\tvalid-logloss:0.22562\tvalid-auc:0.94647\n",
            "[22]\ttrain-logloss:0.22038\ttrain-auc:0.94943\tvalid-logloss:0.22544\tvalid-auc:0.94656\n",
            "[23]\ttrain-logloss:0.22004\ttrain-auc:0.94961\tvalid-logloss:0.22530\tvalid-auc:0.94662\n",
            "[24]\ttrain-logloss:0.21983\ttrain-auc:0.94971\tvalid-logloss:0.22529\tvalid-auc:0.94662\n",
            "[25]\ttrain-logloss:0.21952\ttrain-auc:0.94985\tvalid-logloss:0.22517\tvalid-auc:0.94668\n",
            "[26]\ttrain-logloss:0.21938\ttrain-auc:0.94992\tvalid-logloss:0.22512\tvalid-auc:0.94670\n",
            "[27]\ttrain-logloss:0.21919\ttrain-auc:0.95003\tvalid-logloss:0.22505\tvalid-auc:0.94673\n",
            "[28]\ttrain-logloss:0.21881\ttrain-auc:0.95022\tvalid-logloss:0.22484\tvalid-auc:0.94684\n",
            "[29]\ttrain-logloss:0.21861\ttrain-auc:0.95032\tvalid-logloss:0.22470\tvalid-auc:0.94691\n",
            "[30]\ttrain-logloss:0.21831\ttrain-auc:0.95045\tvalid-logloss:0.22454\tvalid-auc:0.94698\n",
            "[31]\ttrain-logloss:0.21810\ttrain-auc:0.95055\tvalid-logloss:0.22452\tvalid-auc:0.94700\n",
            "[32]\ttrain-logloss:0.21788\ttrain-auc:0.95066\tvalid-logloss:0.22449\tvalid-auc:0.94700\n",
            "[33]\ttrain-logloss:0.21782\ttrain-auc:0.95069\tvalid-logloss:0.22445\tvalid-auc:0.94701\n",
            "[34]\ttrain-logloss:0.21765\ttrain-auc:0.95077\tvalid-logloss:0.22445\tvalid-auc:0.94702\n",
            "[35]\ttrain-logloss:0.21745\ttrain-auc:0.95089\tvalid-logloss:0.22438\tvalid-auc:0.94704\n",
            "[36]\ttrain-logloss:0.21726\ttrain-auc:0.95098\tvalid-logloss:0.22437\tvalid-auc:0.94705\n",
            "[37]\ttrain-logloss:0.21716\ttrain-auc:0.95103\tvalid-logloss:0.22437\tvalid-auc:0.94705\n",
            "[38]\ttrain-logloss:0.21702\ttrain-auc:0.95111\tvalid-logloss:0.22435\tvalid-auc:0.94705\n",
            "[39]\ttrain-logloss:0.21656\ttrain-auc:0.95133\tvalid-logloss:0.22404\tvalid-auc:0.94721\n",
            "[40]\ttrain-logloss:0.21638\ttrain-auc:0.95146\tvalid-logloss:0.22404\tvalid-auc:0.94722\n",
            "[41]\ttrain-logloss:0.21609\ttrain-auc:0.95160\tvalid-logloss:0.22385\tvalid-auc:0.94731\n",
            "[42]\ttrain-logloss:0.21567\ttrain-auc:0.95181\tvalid-logloss:0.22360\tvalid-auc:0.94743\n",
            "[43]\ttrain-logloss:0.21545\ttrain-auc:0.95191\tvalid-logloss:0.22355\tvalid-auc:0.94746\n",
            "[44]\ttrain-logloss:0.21526\ttrain-auc:0.95200\tvalid-logloss:0.22351\tvalid-auc:0.94749\n",
            "[45]\ttrain-logloss:0.21507\ttrain-auc:0.95209\tvalid-logloss:0.22345\tvalid-auc:0.94751\n",
            "[46]\ttrain-logloss:0.21490\ttrain-auc:0.95217\tvalid-logloss:0.22334\tvalid-auc:0.94757\n",
            "[47]\ttrain-logloss:0.21467\ttrain-auc:0.95228\tvalid-logloss:0.22334\tvalid-auc:0.94757\n",
            "[48]\ttrain-logloss:0.21445\ttrain-auc:0.95239\tvalid-logloss:0.22331\tvalid-auc:0.94758\n",
            "[49]\ttrain-logloss:0.21411\ttrain-auc:0.95255\tvalid-logloss:0.22322\tvalid-auc:0.94761\n",
            "[50]\ttrain-logloss:0.21404\ttrain-auc:0.95258\tvalid-logloss:0.22322\tvalid-auc:0.94761\n",
            "[51]\ttrain-logloss:0.21392\ttrain-auc:0.95263\tvalid-logloss:0.22323\tvalid-auc:0.94761\n",
            "[52]\ttrain-logloss:0.21382\ttrain-auc:0.95268\tvalid-logloss:0.22323\tvalid-auc:0.94761\n",
            "[53]\ttrain-logloss:0.21368\ttrain-auc:0.95275\tvalid-logloss:0.22325\tvalid-auc:0.94760\n",
            "[54]\ttrain-logloss:0.21354\ttrain-auc:0.95282\tvalid-logloss:0.22326\tvalid-auc:0.94759\n",
            "[55]\ttrain-logloss:0.21334\ttrain-auc:0.95292\tvalid-logloss:0.22324\tvalid-auc:0.94760\n",
            "[56]\ttrain-logloss:0.21318\ttrain-auc:0.95299\tvalid-logloss:0.22324\tvalid-auc:0.94759\n",
            "[57]\ttrain-logloss:0.21299\ttrain-auc:0.95309\tvalid-logloss:0.22319\tvalid-auc:0.94762\n",
            "[58]\ttrain-logloss:0.21275\ttrain-auc:0.95319\tvalid-logloss:0.22314\tvalid-auc:0.94764\n",
            "[59]\ttrain-logloss:0.21261\ttrain-auc:0.95329\tvalid-logloss:0.22314\tvalid-auc:0.94763\n",
            "[60]\ttrain-logloss:0.21244\ttrain-auc:0.95337\tvalid-logloss:0.22315\tvalid-auc:0.94762\n",
            "[61]\ttrain-logloss:0.21227\ttrain-auc:0.95346\tvalid-logloss:0.22316\tvalid-auc:0.94762\n",
            "[62]\ttrain-logloss:0.21223\ttrain-auc:0.95347\tvalid-logloss:0.22317\tvalid-auc:0.94761\n",
            "[63]\ttrain-logloss:0.21211\ttrain-auc:0.95353\tvalid-logloss:0.22318\tvalid-auc:0.94761\n",
            "[64]\ttrain-logloss:0.21202\ttrain-auc:0.95357\tvalid-logloss:0.22320\tvalid-auc:0.94759\n",
            "[65]\ttrain-logloss:0.21188\ttrain-auc:0.95364\tvalid-logloss:0.22321\tvalid-auc:0.94758\n",
            "[66]\ttrain-logloss:0.21169\ttrain-auc:0.95376\tvalid-logloss:0.22320\tvalid-auc:0.94759\n",
            "[67]\ttrain-logloss:0.21135\ttrain-auc:0.95392\tvalid-logloss:0.22300\tvalid-auc:0.94768\n",
            "[68]\ttrain-logloss:0.21116\ttrain-auc:0.95401\tvalid-logloss:0.22301\tvalid-auc:0.94768\n",
            "[69]\ttrain-logloss:0.21105\ttrain-auc:0.95407\tvalid-logloss:0.22302\tvalid-auc:0.94767\n",
            "[70]\ttrain-logloss:0.21093\ttrain-auc:0.95412\tvalid-logloss:0.22302\tvalid-auc:0.94767\n",
            "[71]\ttrain-logloss:0.21079\ttrain-auc:0.95419\tvalid-logloss:0.22302\tvalid-auc:0.94768\n",
            "[72]\ttrain-logloss:0.21062\ttrain-auc:0.95427\tvalid-logloss:0.22303\tvalid-auc:0.94767\n",
            "[73]\ttrain-logloss:0.21046\ttrain-auc:0.95435\tvalid-logloss:0.22298\tvalid-auc:0.94770\n",
            "[74]\ttrain-logloss:0.21031\ttrain-auc:0.95443\tvalid-logloss:0.22298\tvalid-auc:0.94770\n",
            "[75]\ttrain-logloss:0.21021\ttrain-auc:0.95448\tvalid-logloss:0.22297\tvalid-auc:0.94771\n",
            "[76]\ttrain-logloss:0.21014\ttrain-auc:0.95451\tvalid-logloss:0.22299\tvalid-auc:0.94769\n",
            "[77]\ttrain-logloss:0.20999\ttrain-auc:0.95458\tvalid-logloss:0.22299\tvalid-auc:0.94770\n",
            "[78]\ttrain-logloss:0.20980\ttrain-auc:0.95467\tvalid-logloss:0.22302\tvalid-auc:0.94768\n",
            "[79]\ttrain-logloss:0.20963\ttrain-auc:0.95475\tvalid-logloss:0.22305\tvalid-auc:0.94766\n",
            "[80]\ttrain-logloss:0.20945\ttrain-auc:0.95483\tvalid-logloss:0.22306\tvalid-auc:0.94765\n",
            "[81]\ttrain-logloss:0.20936\ttrain-auc:0.95488\tvalid-logloss:0.22307\tvalid-auc:0.94764\n",
            "[82]\ttrain-logloss:0.20924\ttrain-auc:0.95494\tvalid-logloss:0.22311\tvalid-auc:0.94762\n",
            "[83]\ttrain-logloss:0.20903\ttrain-auc:0.95503\tvalid-logloss:0.22312\tvalid-auc:0.94762\n",
            "[84]\ttrain-logloss:0.20887\ttrain-auc:0.95511\tvalid-logloss:0.22310\tvalid-auc:0.94763\n",
            "[85]\ttrain-logloss:0.20859\ttrain-auc:0.95525\tvalid-logloss:0.22305\tvalid-auc:0.94766\n",
            "[86]\ttrain-logloss:0.20846\ttrain-auc:0.95532\tvalid-logloss:0.22298\tvalid-auc:0.94769\n",
            "[87]\ttrain-logloss:0.20830\ttrain-auc:0.95539\tvalid-logloss:0.22302\tvalid-auc:0.94767\n",
            "[88]\ttrain-logloss:0.20817\ttrain-auc:0.95545\tvalid-logloss:0.22303\tvalid-auc:0.94767\n",
            "[89]\ttrain-logloss:0.20800\ttrain-auc:0.95553\tvalid-logloss:0.22306\tvalid-auc:0.94765\n",
            "[90]\ttrain-logloss:0.20784\ttrain-auc:0.95560\tvalid-logloss:0.22309\tvalid-auc:0.94763\n",
            "[91]\ttrain-logloss:0.20769\ttrain-auc:0.95567\tvalid-logloss:0.22310\tvalid-auc:0.94762\n",
            "[92]\ttrain-logloss:0.20754\ttrain-auc:0.95574\tvalid-logloss:0.22313\tvalid-auc:0.94761\n",
            "[93]\ttrain-logloss:0.20735\ttrain-auc:0.95582\tvalid-logloss:0.22312\tvalid-auc:0.94760\n",
            "[94]\ttrain-logloss:0.20717\ttrain-auc:0.95591\tvalid-logloss:0.22316\tvalid-auc:0.94758\n",
            "[95]\ttrain-logloss:0.20711\ttrain-auc:0.95594\tvalid-logloss:0.22315\tvalid-auc:0.94758\n",
            "[96]\ttrain-logloss:0.20707\ttrain-auc:0.95596\tvalid-logloss:0.22315\tvalid-auc:0.94758\n",
            "[97]\ttrain-logloss:0.20689\ttrain-auc:0.95604\tvalid-logloss:0.22318\tvalid-auc:0.94756\n",
            "[98]\ttrain-logloss:0.20678\ttrain-auc:0.95609\tvalid-logloss:0.22320\tvalid-auc:0.94755\n",
            "[99]\ttrain-logloss:0.20663\ttrain-auc:0.95616\tvalid-logloss:0.22320\tvalid-auc:0.94755\n",
            "[100]\ttrain-logloss:0.20650\ttrain-auc:0.95623\tvalid-logloss:0.22317\tvalid-auc:0.94757\n",
            "[101]\ttrain-logloss:0.20619\ttrain-auc:0.95638\tvalid-logloss:0.22301\tvalid-auc:0.94765\n",
            "[102]\ttrain-logloss:0.20602\ttrain-auc:0.95646\tvalid-logloss:0.22304\tvalid-auc:0.94763\n",
            "[103]\ttrain-logloss:0.20591\ttrain-auc:0.95650\tvalid-logloss:0.22303\tvalid-auc:0.94763\n",
            "[104]\ttrain-logloss:0.20570\ttrain-auc:0.95659\tvalid-logloss:0.22298\tvalid-auc:0.94766\n",
            "[105]\ttrain-logloss:0.20555\ttrain-auc:0.95666\tvalid-logloss:0.22299\tvalid-auc:0.94765\n",
            "[106]\ttrain-logloss:0.20542\ttrain-auc:0.95673\tvalid-logloss:0.22302\tvalid-auc:0.94763\n",
            "[107]\ttrain-logloss:0.20532\ttrain-auc:0.95677\tvalid-logloss:0.22305\tvalid-auc:0.94762\n",
            "[108]\ttrain-logloss:0.20520\ttrain-auc:0.95683\tvalid-logloss:0.22309\tvalid-auc:0.94759\n",
            "[109]\ttrain-logloss:0.20508\ttrain-auc:0.95689\tvalid-logloss:0.22310\tvalid-auc:0.94759\n",
            "[110]\ttrain-logloss:0.20494\ttrain-auc:0.95696\tvalid-logloss:0.22310\tvalid-auc:0.94759\n",
            "[111]\ttrain-logloss:0.20474\ttrain-auc:0.95705\tvalid-logloss:0.22305\tvalid-auc:0.94761\n",
            "[112]\ttrain-logloss:0.20455\ttrain-auc:0.95713\tvalid-logloss:0.22298\tvalid-auc:0.94765\n",
            "[113]\ttrain-logloss:0.20438\ttrain-auc:0.95722\tvalid-logloss:0.22295\tvalid-auc:0.94766\n",
            "[114]\ttrain-logloss:0.20426\ttrain-auc:0.95727\tvalid-logloss:0.22296\tvalid-auc:0.94766\n",
            "[115]\ttrain-logloss:0.20413\ttrain-auc:0.95734\tvalid-logloss:0.22300\tvalid-auc:0.94764\n",
            "[116]\ttrain-logloss:0.20405\ttrain-auc:0.95737\tvalid-logloss:0.22299\tvalid-auc:0.94765\n",
            "[117]\ttrain-logloss:0.20396\ttrain-auc:0.95741\tvalid-logloss:0.22301\tvalid-auc:0.94764\n",
            "[118]\ttrain-logloss:0.20391\ttrain-auc:0.95744\tvalid-logloss:0.22302\tvalid-auc:0.94763\n",
            "[119]\ttrain-logloss:0.20379\ttrain-auc:0.95749\tvalid-logloss:0.22302\tvalid-auc:0.94763\n",
            "[120]\ttrain-logloss:0.20367\ttrain-auc:0.95755\tvalid-logloss:0.22305\tvalid-auc:0.94763\n",
            "[121]\ttrain-logloss:0.20352\ttrain-auc:0.95762\tvalid-logloss:0.22306\tvalid-auc:0.94762\n",
            "[122]\ttrain-logloss:0.20345\ttrain-auc:0.95765\tvalid-logloss:0.22305\tvalid-auc:0.94762\n",
            "[123]\ttrain-logloss:0.20329\ttrain-auc:0.95772\tvalid-logloss:0.22308\tvalid-auc:0.94761\n",
            "[124]\ttrain-logloss:0.20315\ttrain-auc:0.95779\tvalid-logloss:0.22310\tvalid-auc:0.94760\n",
            "[125]\ttrain-logloss:0.20296\ttrain-auc:0.95788\tvalid-logloss:0.22314\tvalid-auc:0.94759\n",
            "[126]\ttrain-logloss:0.20280\ttrain-auc:0.95795\tvalid-logloss:0.22317\tvalid-auc:0.94757\n",
            "[127]\ttrain-logloss:0.20271\ttrain-auc:0.95799\tvalid-logloss:0.22319\tvalid-auc:0.94755\n",
            "[128]\ttrain-logloss:0.20258\ttrain-auc:0.95806\tvalid-logloss:0.22319\tvalid-auc:0.94755\n",
            "[129]\ttrain-logloss:0.20245\ttrain-auc:0.95812\tvalid-logloss:0.22324\tvalid-auc:0.94753\n",
            "[130]\ttrain-logloss:0.20230\ttrain-auc:0.95819\tvalid-logloss:0.22325\tvalid-auc:0.94752\n",
            "[131]\ttrain-logloss:0.20213\ttrain-auc:0.95826\tvalid-logloss:0.22326\tvalid-auc:0.94752\n",
            "[132]\ttrain-logloss:0.20198\ttrain-auc:0.95833\tvalid-logloss:0.22328\tvalid-auc:0.94751\n",
            "[133]\ttrain-logloss:0.20184\ttrain-auc:0.95842\tvalid-logloss:0.22330\tvalid-auc:0.94750\n",
            "[134]\ttrain-logloss:0.20163\ttrain-auc:0.95851\tvalid-logloss:0.22324\tvalid-auc:0.94753\n",
            "[135]\ttrain-logloss:0.20141\ttrain-auc:0.95860\tvalid-logloss:0.22314\tvalid-auc:0.94757\n",
            "[136]\ttrain-logloss:0.20129\ttrain-auc:0.95866\tvalid-logloss:0.22315\tvalid-auc:0.94757\n",
            "[137]\ttrain-logloss:0.20119\ttrain-auc:0.95870\tvalid-logloss:0.22313\tvalid-auc:0.94758\n",
            "[138]\ttrain-logloss:0.20102\ttrain-auc:0.95877\tvalid-logloss:0.22314\tvalid-auc:0.94757\n",
            "[139]\ttrain-logloss:0.20095\ttrain-auc:0.95881\tvalid-logloss:0.22315\tvalid-auc:0.94756\n",
            "[140]\ttrain-logloss:0.20081\ttrain-auc:0.95887\tvalid-logloss:0.22318\tvalid-auc:0.94755\n",
            "[141]\ttrain-logloss:0.20074\ttrain-auc:0.95890\tvalid-logloss:0.22318\tvalid-auc:0.94755\n",
            "[142]\ttrain-logloss:0.20059\ttrain-auc:0.95897\tvalid-logloss:0.22320\tvalid-auc:0.94754\n",
            "[143]\ttrain-logloss:0.20046\ttrain-auc:0.95904\tvalid-logloss:0.22323\tvalid-auc:0.94753\n",
            "[144]\ttrain-logloss:0.20035\ttrain-auc:0.95909\tvalid-logloss:0.22324\tvalid-auc:0.94752\n",
            "[145]\ttrain-logloss:0.20020\ttrain-auc:0.95916\tvalid-logloss:0.22328\tvalid-auc:0.94750\n",
            "[146]\ttrain-logloss:0.20009\ttrain-auc:0.95921\tvalid-logloss:0.22331\tvalid-auc:0.94747\n",
            "[147]\ttrain-logloss:0.19995\ttrain-auc:0.95927\tvalid-logloss:0.22335\tvalid-auc:0.94746\n",
            "[148]\ttrain-logloss:0.19985\ttrain-auc:0.95931\tvalid-logloss:0.22335\tvalid-auc:0.94745\n",
            "[149]\ttrain-logloss:0.19974\ttrain-auc:0.95937\tvalid-logloss:0.22335\tvalid-auc:0.94746\n",
            "[150]\ttrain-logloss:0.19970\ttrain-auc:0.95938\tvalid-logloss:0.22335\tvalid-auc:0.94746\n",
            "[151]\ttrain-logloss:0.19953\ttrain-auc:0.95948\tvalid-logloss:0.22340\tvalid-auc:0.94743\n",
            "[152]\ttrain-logloss:0.19941\ttrain-auc:0.95953\tvalid-logloss:0.22343\tvalid-auc:0.94741\n",
            "[153]\ttrain-logloss:0.19925\ttrain-auc:0.95960\tvalid-logloss:0.22346\tvalid-auc:0.94741\n",
            "[154]\ttrain-logloss:0.19910\ttrain-auc:0.95967\tvalid-logloss:0.22344\tvalid-auc:0.94741\n",
            "[155]\ttrain-logloss:0.19905\ttrain-auc:0.95970\tvalid-logloss:0.22342\tvalid-auc:0.94742\n",
            "[156]\ttrain-logloss:0.19895\ttrain-auc:0.95975\tvalid-logloss:0.22344\tvalid-auc:0.94741\n",
            "[157]\ttrain-logloss:0.19880\ttrain-auc:0.95982\tvalid-logloss:0.22346\tvalid-auc:0.94740\n",
            "[158]\ttrain-logloss:0.19872\ttrain-auc:0.95985\tvalid-logloss:0.22348\tvalid-auc:0.94739\n",
            "[159]\ttrain-logloss:0.19858\ttrain-auc:0.95992\tvalid-logloss:0.22348\tvalid-auc:0.94739\n",
            "[160]\ttrain-logloss:0.19843\ttrain-auc:0.95999\tvalid-logloss:0.22347\tvalid-auc:0.94739\n",
            "[161]\ttrain-logloss:0.19837\ttrain-auc:0.96001\tvalid-logloss:0.22348\tvalid-auc:0.94739\n",
            "[162]\ttrain-logloss:0.19829\ttrain-auc:0.96005\tvalid-logloss:0.22347\tvalid-auc:0.94739\n",
            "[163]\ttrain-logloss:0.19819\ttrain-auc:0.96010\tvalid-logloss:0.22348\tvalid-auc:0.94739\n",
            "[164]\ttrain-logloss:0.19812\ttrain-auc:0.96014\tvalid-logloss:0.22349\tvalid-auc:0.94738\n",
            "[165]\ttrain-logloss:0.19799\ttrain-auc:0.96019\tvalid-logloss:0.22350\tvalid-auc:0.94738\n",
            "[166]\ttrain-logloss:0.19787\ttrain-auc:0.96026\tvalid-logloss:0.22350\tvalid-auc:0.94738\n",
            "[167]\ttrain-logloss:0.19773\ttrain-auc:0.96032\tvalid-logloss:0.22350\tvalid-auc:0.94738\n",
            "[168]\ttrain-logloss:0.19762\ttrain-auc:0.96039\tvalid-logloss:0.22352\tvalid-auc:0.94738\n",
            "[169]\ttrain-logloss:0.19747\ttrain-auc:0.96045\tvalid-logloss:0.22353\tvalid-auc:0.94738\n",
            "[170]\ttrain-logloss:0.19739\ttrain-auc:0.96049\tvalid-logloss:0.22355\tvalid-auc:0.94737\n",
            "[171]\ttrain-logloss:0.19723\ttrain-auc:0.96056\tvalid-logloss:0.22359\tvalid-auc:0.94734\n",
            "[172]\ttrain-logloss:0.19711\ttrain-auc:0.96062\tvalid-logloss:0.22359\tvalid-auc:0.94734\n",
            "[173]\ttrain-logloss:0.19689\ttrain-auc:0.96072\tvalid-logloss:0.22356\tvalid-auc:0.94735\n",
            "[174]\ttrain-logloss:0.19681\ttrain-auc:0.96076\tvalid-logloss:0.22358\tvalid-auc:0.94734\n",
            "[175]\ttrain-logloss:0.19669\ttrain-auc:0.96081\tvalid-logloss:0.22360\tvalid-auc:0.94732\n",
            "[176]\ttrain-logloss:0.19655\ttrain-auc:0.96088\tvalid-logloss:0.22361\tvalid-auc:0.94733\n",
            "[177]\ttrain-logloss:0.19642\ttrain-auc:0.96093\tvalid-logloss:0.22362\tvalid-auc:0.94732\n",
            "[178]\ttrain-logloss:0.19633\ttrain-auc:0.96097\tvalid-logloss:0.22363\tvalid-auc:0.94732\n",
            "[179]\ttrain-logloss:0.19621\ttrain-auc:0.96102\tvalid-logloss:0.22364\tvalid-auc:0.94731\n",
            "[180]\ttrain-logloss:0.19612\ttrain-auc:0.96106\tvalid-logloss:0.22365\tvalid-auc:0.94731\n",
            "[181]\ttrain-logloss:0.19599\ttrain-auc:0.96112\tvalid-logloss:0.22368\tvalid-auc:0.94729\n",
            "[182]\ttrain-logloss:0.19584\ttrain-auc:0.96119\tvalid-logloss:0.22371\tvalid-auc:0.94728\n",
            "[183]\ttrain-logloss:0.19572\ttrain-auc:0.96124\tvalid-logloss:0.22371\tvalid-auc:0.94729\n",
            "[184]\ttrain-logloss:0.19565\ttrain-auc:0.96127\tvalid-logloss:0.22373\tvalid-auc:0.94728\n",
            "[185]\ttrain-logloss:0.19558\ttrain-auc:0.96131\tvalid-logloss:0.22374\tvalid-auc:0.94726\n",
            "[186]\ttrain-logloss:0.19550\ttrain-auc:0.96135\tvalid-logloss:0.22377\tvalid-auc:0.94726\n",
            "[187]\ttrain-logloss:0.19540\ttrain-auc:0.96139\tvalid-logloss:0.22377\tvalid-auc:0.94726\n",
            "[188]\ttrain-logloss:0.19531\ttrain-auc:0.96143\tvalid-logloss:0.22376\tvalid-auc:0.94726\n",
            "[189]\ttrain-logloss:0.19522\ttrain-auc:0.96147\tvalid-logloss:0.22376\tvalid-auc:0.94726\n",
            "[190]\ttrain-logloss:0.19512\ttrain-auc:0.96152\tvalid-logloss:0.22377\tvalid-auc:0.94726\n",
            "[191]\ttrain-logloss:0.19497\ttrain-auc:0.96158\tvalid-logloss:0.22376\tvalid-auc:0.94726\n",
            "[192]\ttrain-logloss:0.19484\ttrain-auc:0.96165\tvalid-logloss:0.22379\tvalid-auc:0.94725\n",
            "[193]\ttrain-logloss:0.19474\ttrain-auc:0.96169\tvalid-logloss:0.22381\tvalid-auc:0.94724\n",
            "[194]\ttrain-logloss:0.19460\ttrain-auc:0.96176\tvalid-logloss:0.22383\tvalid-auc:0.94723\n",
            "[195]\ttrain-logloss:0.19447\ttrain-auc:0.96182\tvalid-logloss:0.22383\tvalid-auc:0.94723\n",
            "[196]\ttrain-logloss:0.19437\ttrain-auc:0.96186\tvalid-logloss:0.22384\tvalid-auc:0.94722\n",
            "[197]\ttrain-logloss:0.19424\ttrain-auc:0.96192\tvalid-logloss:0.22383\tvalid-auc:0.94722\n",
            "[198]\ttrain-logloss:0.19418\ttrain-auc:0.96195\tvalid-logloss:0.22385\tvalid-auc:0.94721\n",
            "[199]\ttrain-logloss:0.19406\ttrain-auc:0.96201\tvalid-logloss:0.22389\tvalid-auc:0.94720\n",
            "[200]\ttrain-logloss:0.19394\ttrain-auc:0.96207\tvalid-logloss:0.22391\tvalid-auc:0.94718\n",
            "[201]\ttrain-logloss:0.19383\ttrain-auc:0.96212\tvalid-logloss:0.22392\tvalid-auc:0.94717\n",
            "[202]\ttrain-logloss:0.19372\ttrain-auc:0.96216\tvalid-logloss:0.22395\tvalid-auc:0.94716\n",
            "[203]\ttrain-logloss:0.19364\ttrain-auc:0.96220\tvalid-logloss:0.22398\tvalid-auc:0.94714\n",
            "[204]\ttrain-logloss:0.19356\ttrain-auc:0.96223\tvalid-logloss:0.22399\tvalid-auc:0.94714\n",
            "[205]\ttrain-logloss:0.19343\ttrain-auc:0.96229\tvalid-logloss:0.22399\tvalid-auc:0.94713\n",
            "[206]\ttrain-logloss:0.19327\ttrain-auc:0.96236\tvalid-logloss:0.22394\tvalid-auc:0.94716\n",
            "[207]\ttrain-logloss:0.19313\ttrain-auc:0.96241\tvalid-logloss:0.22394\tvalid-auc:0.94717\n",
            "[208]\ttrain-logloss:0.19300\ttrain-auc:0.96247\tvalid-logloss:0.22394\tvalid-auc:0.94716\n",
            "[209]\ttrain-logloss:0.19292\ttrain-auc:0.96250\tvalid-logloss:0.22397\tvalid-auc:0.94716\n",
            "[210]\ttrain-logloss:0.19278\ttrain-auc:0.96256\tvalid-logloss:0.22398\tvalid-auc:0.94716\n",
            "[211]\ttrain-logloss:0.19269\ttrain-auc:0.96260\tvalid-logloss:0.22400\tvalid-auc:0.94715\n",
            "[212]\ttrain-logloss:0.19263\ttrain-auc:0.96263\tvalid-logloss:0.22399\tvalid-auc:0.94715\n",
            "[213]\ttrain-logloss:0.19257\ttrain-auc:0.96266\tvalid-logloss:0.22400\tvalid-auc:0.94715\n",
            "[214]\ttrain-logloss:0.19243\ttrain-auc:0.96273\tvalid-logloss:0.22404\tvalid-auc:0.94712\n",
            "[215]\ttrain-logloss:0.19233\ttrain-auc:0.96277\tvalid-logloss:0.22405\tvalid-auc:0.94712\n",
            "[216]\ttrain-logloss:0.19230\ttrain-auc:0.96278\tvalid-logloss:0.22406\tvalid-auc:0.94712\n",
            "[217]\ttrain-logloss:0.19220\ttrain-auc:0.96283\tvalid-logloss:0.22408\tvalid-auc:0.94711\n",
            "[218]\ttrain-logloss:0.19207\ttrain-auc:0.96289\tvalid-logloss:0.22409\tvalid-auc:0.94710\n",
            "[219]\ttrain-logloss:0.19193\ttrain-auc:0.96295\tvalid-logloss:0.22413\tvalid-auc:0.94708\n",
            "[220]\ttrain-logloss:0.19183\ttrain-auc:0.96299\tvalid-logloss:0.22416\tvalid-auc:0.94706\n",
            "[221]\ttrain-logloss:0.19171\ttrain-auc:0.96305\tvalid-logloss:0.22419\tvalid-auc:0.94705\n",
            "[222]\ttrain-logloss:0.19165\ttrain-auc:0.96307\tvalid-logloss:0.22419\tvalid-auc:0.94705\n",
            "[223]\ttrain-logloss:0.19153\ttrain-auc:0.96312\tvalid-logloss:0.22417\tvalid-auc:0.94706\n",
            "[224]\ttrain-logloss:0.19134\ttrain-auc:0.96319\tvalid-logloss:0.22415\tvalid-auc:0.94707\n",
            "[225]\ttrain-logloss:0.19124\ttrain-auc:0.96324\tvalid-logloss:0.22417\tvalid-auc:0.94706\n",
            "[226]\ttrain-logloss:0.19109\ttrain-auc:0.96331\tvalid-logloss:0.22419\tvalid-auc:0.94705\n",
            "[227]\ttrain-logloss:0.19097\ttrain-auc:0.96336\tvalid-logloss:0.22419\tvalid-auc:0.94705\n",
            "[228]\ttrain-logloss:0.19085\ttrain-auc:0.96342\tvalid-logloss:0.22421\tvalid-auc:0.94704\n",
            "[229]\ttrain-logloss:0.19072\ttrain-auc:0.96347\tvalid-logloss:0.22422\tvalid-auc:0.94704\n",
            "[230]\ttrain-logloss:0.19061\ttrain-auc:0.96351\tvalid-logloss:0.22422\tvalid-auc:0.94704\n",
            "[231]\ttrain-logloss:0.19048\ttrain-auc:0.96357\tvalid-logloss:0.22426\tvalid-auc:0.94703\n",
            "[232]\ttrain-logloss:0.19037\ttrain-auc:0.96362\tvalid-logloss:0.22427\tvalid-auc:0.94702\n",
            "[233]\ttrain-logloss:0.19024\ttrain-auc:0.96367\tvalid-logloss:0.22428\tvalid-auc:0.94701\n",
            "[234]\ttrain-logloss:0.19009\ttrain-auc:0.96374\tvalid-logloss:0.22432\tvalid-auc:0.94700\n",
            "[235]\ttrain-logloss:0.18996\ttrain-auc:0.96379\tvalid-logloss:0.22435\tvalid-auc:0.94699\n",
            "[236]\ttrain-logloss:0.18980\ttrain-auc:0.96386\tvalid-logloss:0.22436\tvalid-auc:0.94698\n",
            "[237]\ttrain-logloss:0.18966\ttrain-auc:0.96392\tvalid-logloss:0.22435\tvalid-auc:0.94699\n",
            "[238]\ttrain-logloss:0.18952\ttrain-auc:0.96399\tvalid-logloss:0.22437\tvalid-auc:0.94698\n",
            "[239]\ttrain-logloss:0.18944\ttrain-auc:0.96403\tvalid-logloss:0.22439\tvalid-auc:0.94697\n",
            "[240]\ttrain-logloss:0.18937\ttrain-auc:0.96406\tvalid-logloss:0.22440\tvalid-auc:0.94696\n",
            "[241]\ttrain-logloss:0.18927\ttrain-auc:0.96410\tvalid-logloss:0.22441\tvalid-auc:0.94696\n",
            "[242]\ttrain-logloss:0.18921\ttrain-auc:0.96413\tvalid-logloss:0.22441\tvalid-auc:0.94696\n",
            "[243]\ttrain-logloss:0.18907\ttrain-auc:0.96419\tvalid-logloss:0.22442\tvalid-auc:0.94695\n",
            "[244]\ttrain-logloss:0.18896\ttrain-auc:0.96424\tvalid-logloss:0.22444\tvalid-auc:0.94695\n",
            "[245]\ttrain-logloss:0.18881\ttrain-auc:0.96431\tvalid-logloss:0.22448\tvalid-auc:0.94693\n",
            "[246]\ttrain-logloss:0.18866\ttrain-auc:0.96437\tvalid-logloss:0.22448\tvalid-auc:0.94693\n",
            "[247]\ttrain-logloss:0.18853\ttrain-auc:0.96443\tvalid-logloss:0.22452\tvalid-auc:0.94691\n",
            "[248]\ttrain-logloss:0.18846\ttrain-auc:0.96446\tvalid-logloss:0.22453\tvalid-auc:0.94691\n",
            "[249]\ttrain-logloss:0.18832\ttrain-auc:0.96452\tvalid-logloss:0.22456\tvalid-auc:0.94690\n",
            "[250]\ttrain-logloss:0.18819\ttrain-auc:0.96458\tvalid-logloss:0.22456\tvalid-auc:0.94689\n",
            "[251]\ttrain-logloss:0.18805\ttrain-auc:0.96463\tvalid-logloss:0.22459\tvalid-auc:0.94688\n",
            "[252]\ttrain-logloss:0.18794\ttrain-auc:0.96468\tvalid-logloss:0.22459\tvalid-auc:0.94688\n",
            "[253]\ttrain-logloss:0.18784\ttrain-auc:0.96473\tvalid-logloss:0.22461\tvalid-auc:0.94687\n",
            "[254]\ttrain-logloss:0.18772\ttrain-auc:0.96478\tvalid-logloss:0.22465\tvalid-auc:0.94686\n",
            "[255]\ttrain-logloss:0.18759\ttrain-auc:0.96483\tvalid-logloss:0.22466\tvalid-auc:0.94686\n",
            "[256]\ttrain-logloss:0.18746\ttrain-auc:0.96489\tvalid-logloss:0.22470\tvalid-auc:0.94684\n",
            "[257]\ttrain-logloss:0.18737\ttrain-auc:0.96493\tvalid-logloss:0.22471\tvalid-auc:0.94683\n",
            "[258]\ttrain-logloss:0.18731\ttrain-auc:0.96495\tvalid-logloss:0.22472\tvalid-auc:0.94683\n",
            "[259]\ttrain-logloss:0.18719\ttrain-auc:0.96501\tvalid-logloss:0.22475\tvalid-auc:0.94681\n",
            "[260]\ttrain-logloss:0.18705\ttrain-auc:0.96507\tvalid-logloss:0.22475\tvalid-auc:0.94681\n",
            "[261]\ttrain-logloss:0.18692\ttrain-auc:0.96512\tvalid-logloss:0.22477\tvalid-auc:0.94680\n",
            "[262]\ttrain-logloss:0.18680\ttrain-auc:0.96518\tvalid-logloss:0.22479\tvalid-auc:0.94680\n",
            "[263]\ttrain-logloss:0.18669\ttrain-auc:0.96522\tvalid-logloss:0.22481\tvalid-auc:0.94679\n",
            "[264]\ttrain-logloss:0.18659\ttrain-auc:0.96528\tvalid-logloss:0.22483\tvalid-auc:0.94678\n",
            "[265]\ttrain-logloss:0.18648\ttrain-auc:0.96532\tvalid-logloss:0.22485\tvalid-auc:0.94676\n",
            "[266]\ttrain-logloss:0.18632\ttrain-auc:0.96540\tvalid-logloss:0.22488\tvalid-auc:0.94675\n",
            "[267]\ttrain-logloss:0.18621\ttrain-auc:0.96544\tvalid-logloss:0.22492\tvalid-auc:0.94673\n",
            "[268]\ttrain-logloss:0.18613\ttrain-auc:0.96548\tvalid-logloss:0.22493\tvalid-auc:0.94672\n",
            "[269]\ttrain-logloss:0.18603\ttrain-auc:0.96552\tvalid-logloss:0.22497\tvalid-auc:0.94670\n",
            "[270]\ttrain-logloss:0.18592\ttrain-auc:0.96557\tvalid-logloss:0.22497\tvalid-auc:0.94670\n",
            "[271]\ttrain-logloss:0.18580\ttrain-auc:0.96562\tvalid-logloss:0.22500\tvalid-auc:0.94669\n",
            "[272]\ttrain-logloss:0.18571\ttrain-auc:0.96566\tvalid-logloss:0.22499\tvalid-auc:0.94670\n",
            "[273]\ttrain-logloss:0.18565\ttrain-auc:0.96569\tvalid-logloss:0.22499\tvalid-auc:0.94670\n",
            "[274]\ttrain-logloss:0.18555\ttrain-auc:0.96573\tvalid-logloss:0.22501\tvalid-auc:0.94668\n",
            "[275]\ttrain-logloss:0.18543\ttrain-auc:0.96578\tvalid-logloss:0.22502\tvalid-auc:0.94668\n",
            "[276]\ttrain-logloss:0.18535\ttrain-auc:0.96582\tvalid-logloss:0.22504\tvalid-auc:0.94667\n",
            "[277]\ttrain-logloss:0.18522\ttrain-auc:0.96588\tvalid-logloss:0.22505\tvalid-auc:0.94667\n",
            "[278]\ttrain-logloss:0.18510\ttrain-auc:0.96593\tvalid-logloss:0.22506\tvalid-auc:0.94668\n",
            "[279]\ttrain-logloss:0.18501\ttrain-auc:0.96597\tvalid-logloss:0.22508\tvalid-auc:0.94667\n",
            "[280]\ttrain-logloss:0.18490\ttrain-auc:0.96601\tvalid-logloss:0.22511\tvalid-auc:0.94665\n",
            "[281]\ttrain-logloss:0.18480\ttrain-auc:0.96606\tvalid-logloss:0.22513\tvalid-auc:0.94664\n",
            "[282]\ttrain-logloss:0.18470\ttrain-auc:0.96611\tvalid-logloss:0.22514\tvalid-auc:0.94663\n",
            "[283]\ttrain-logloss:0.18458\ttrain-auc:0.96617\tvalid-logloss:0.22518\tvalid-auc:0.94661\n",
            "[284]\ttrain-logloss:0.18452\ttrain-auc:0.96619\tvalid-logloss:0.22519\tvalid-auc:0.94660\n",
            "[285]\ttrain-logloss:0.18440\ttrain-auc:0.96624\tvalid-logloss:0.22523\tvalid-auc:0.94658\n",
            "[286]\ttrain-logloss:0.18430\ttrain-auc:0.96629\tvalid-logloss:0.22527\tvalid-auc:0.94657\n",
            "[287]\ttrain-logloss:0.18420\ttrain-auc:0.96633\tvalid-logloss:0.22528\tvalid-auc:0.94656\n",
            "[288]\ttrain-logloss:0.18408\ttrain-auc:0.96639\tvalid-logloss:0.22528\tvalid-auc:0.94656\n",
            "[289]\ttrain-logloss:0.18399\ttrain-auc:0.96642\tvalid-logloss:0.22530\tvalid-auc:0.94655\n",
            "[290]\ttrain-logloss:0.18392\ttrain-auc:0.96646\tvalid-logloss:0.22533\tvalid-auc:0.94654\n",
            "[291]\ttrain-logloss:0.18386\ttrain-auc:0.96648\tvalid-logloss:0.22533\tvalid-auc:0.94654\n",
            "[292]\ttrain-logloss:0.18383\ttrain-auc:0.96649\tvalid-logloss:0.22534\tvalid-auc:0.94654\n",
            "[293]\ttrain-logloss:0.18373\ttrain-auc:0.96653\tvalid-logloss:0.22534\tvalid-auc:0.94653\n",
            "[294]\ttrain-logloss:0.18361\ttrain-auc:0.96658\tvalid-logloss:0.22533\tvalid-auc:0.94654\n",
            "[295]\ttrain-logloss:0.18346\ttrain-auc:0.96665\tvalid-logloss:0.22537\tvalid-auc:0.94653\n",
            "[296]\ttrain-logloss:0.18331\ttrain-auc:0.96672\tvalid-logloss:0.22538\tvalid-auc:0.94652\n",
            "[297]\ttrain-logloss:0.18320\ttrain-auc:0.96677\tvalid-logloss:0.22540\tvalid-auc:0.94651\n",
            "[298]\ttrain-logloss:0.18310\ttrain-auc:0.96681\tvalid-logloss:0.22542\tvalid-auc:0.94650\n",
            "[299]\ttrain-logloss:0.18298\ttrain-auc:0.96687\tvalid-logloss:0.22546\tvalid-auc:0.94648\n",
            "[300]\ttrain-logloss:0.18282\ttrain-auc:0.96694\tvalid-logloss:0.22547\tvalid-auc:0.94647\n",
            "[301]\ttrain-logloss:0.18269\ttrain-auc:0.96699\tvalid-logloss:0.22551\tvalid-auc:0.94646\n",
            "[302]\ttrain-logloss:0.18262\ttrain-auc:0.96702\tvalid-logloss:0.22550\tvalid-auc:0.94646\n",
            "[303]\ttrain-logloss:0.18256\ttrain-auc:0.96705\tvalid-logloss:0.22551\tvalid-auc:0.94645\n",
            "[304]\ttrain-logloss:0.18240\ttrain-auc:0.96713\tvalid-logloss:0.22557\tvalid-auc:0.94643\n",
            "[305]\ttrain-logloss:0.18228\ttrain-auc:0.96717\tvalid-logloss:0.22560\tvalid-auc:0.94641\n",
            "[306]\ttrain-logloss:0.18218\ttrain-auc:0.96722\tvalid-logloss:0.22564\tvalid-auc:0.94639\n",
            "[307]\ttrain-logloss:0.18207\ttrain-auc:0.96726\tvalid-logloss:0.22565\tvalid-auc:0.94638\n",
            "[308]\ttrain-logloss:0.18195\ttrain-auc:0.96731\tvalid-logloss:0.22567\tvalid-auc:0.94638\n",
            "[309]\ttrain-logloss:0.18185\ttrain-auc:0.96735\tvalid-logloss:0.22568\tvalid-auc:0.94637\n",
            "[310]\ttrain-logloss:0.18172\ttrain-auc:0.96740\tvalid-logloss:0.22572\tvalid-auc:0.94636\n",
            "[311]\ttrain-logloss:0.18161\ttrain-auc:0.96744\tvalid-logloss:0.22574\tvalid-auc:0.94635\n",
            "[312]\ttrain-logloss:0.18151\ttrain-auc:0.96748\tvalid-logloss:0.22576\tvalid-auc:0.94634\n",
            "[313]\ttrain-logloss:0.18141\ttrain-auc:0.96753\tvalid-logloss:0.22578\tvalid-auc:0.94634\n",
            "[314]\ttrain-logloss:0.18130\ttrain-auc:0.96757\tvalid-logloss:0.22579\tvalid-auc:0.94633\n",
            "[315]\ttrain-logloss:0.18118\ttrain-auc:0.96762\tvalid-logloss:0.22581\tvalid-auc:0.94633\n",
            "[316]\ttrain-logloss:0.18106\ttrain-auc:0.96767\tvalid-logloss:0.22585\tvalid-auc:0.94631\n",
            "[317]\ttrain-logloss:0.18093\ttrain-auc:0.96773\tvalid-logloss:0.22586\tvalid-auc:0.94631\n",
            "[318]\ttrain-logloss:0.18082\ttrain-auc:0.96777\tvalid-logloss:0.22587\tvalid-auc:0.94630\n",
            "[319]\ttrain-logloss:0.18072\ttrain-auc:0.96781\tvalid-logloss:0.22588\tvalid-auc:0.94630\n",
            "[320]\ttrain-logloss:0.18062\ttrain-auc:0.96785\tvalid-logloss:0.22589\tvalid-auc:0.94630\n",
            "[321]\ttrain-logloss:0.18048\ttrain-auc:0.96791\tvalid-logloss:0.22592\tvalid-auc:0.94628\n",
            "[322]\ttrain-logloss:0.18036\ttrain-auc:0.96795\tvalid-logloss:0.22594\tvalid-auc:0.94627\n",
            "[323]\ttrain-logloss:0.18026\ttrain-auc:0.96800\tvalid-logloss:0.22597\tvalid-auc:0.94626\n",
            "[324]\ttrain-logloss:0.18017\ttrain-auc:0.96804\tvalid-logloss:0.22599\tvalid-auc:0.94625\n",
            "[325]\ttrain-logloss:0.18005\ttrain-auc:0.96809\tvalid-logloss:0.22600\tvalid-auc:0.94625\n",
            "[326]\ttrain-logloss:0.17996\ttrain-auc:0.96813\tvalid-logloss:0.22603\tvalid-auc:0.94623\n",
            "[327]\ttrain-logloss:0.17985\ttrain-auc:0.96818\tvalid-logloss:0.22604\tvalid-auc:0.94622\n",
            "[328]\ttrain-logloss:0.17978\ttrain-auc:0.96821\tvalid-logloss:0.22605\tvalid-auc:0.94622\n",
            "[329]\ttrain-logloss:0.17972\ttrain-auc:0.96824\tvalid-logloss:0.22606\tvalid-auc:0.94621\n",
            "[330]\ttrain-logloss:0.17961\ttrain-auc:0.96828\tvalid-logloss:0.22608\tvalid-auc:0.94620\n",
            "[331]\ttrain-logloss:0.17951\ttrain-auc:0.96832\tvalid-logloss:0.22608\tvalid-auc:0.94621\n",
            "[332]\ttrain-logloss:0.17945\ttrain-auc:0.96834\tvalid-logloss:0.22607\tvalid-auc:0.94622\n",
            "[333]\ttrain-logloss:0.17938\ttrain-auc:0.96838\tvalid-logloss:0.22608\tvalid-auc:0.94622\n",
            "[334]\ttrain-logloss:0.17926\ttrain-auc:0.96843\tvalid-logloss:0.22609\tvalid-auc:0.94622\n",
            "[335]\ttrain-logloss:0.17913\ttrain-auc:0.96849\tvalid-logloss:0.22609\tvalid-auc:0.94621\n",
            "[336]\ttrain-logloss:0.17903\ttrain-auc:0.96852\tvalid-logloss:0.22610\tvalid-auc:0.94621\n",
            "[337]\ttrain-logloss:0.17896\ttrain-auc:0.96856\tvalid-logloss:0.22612\tvalid-auc:0.94620\n",
            "[338]\ttrain-logloss:0.17884\ttrain-auc:0.96861\tvalid-logloss:0.22619\tvalid-auc:0.94617\n",
            "[339]\ttrain-logloss:0.17876\ttrain-auc:0.96865\tvalid-logloss:0.22621\tvalid-auc:0.94616\n",
            "[340]\ttrain-logloss:0.17860\ttrain-auc:0.96871\tvalid-logloss:0.22623\tvalid-auc:0.94616\n",
            "[341]\ttrain-logloss:0.17850\ttrain-auc:0.96875\tvalid-logloss:0.22625\tvalid-auc:0.94615\n",
            "[342]\ttrain-logloss:0.17839\ttrain-auc:0.96879\tvalid-logloss:0.22628\tvalid-auc:0.94614\n",
            "[343]\ttrain-logloss:0.17827\ttrain-auc:0.96885\tvalid-logloss:0.22628\tvalid-auc:0.94614\n",
            "[344]\ttrain-logloss:0.17820\ttrain-auc:0.96888\tvalid-logloss:0.22629\tvalid-auc:0.94613\n",
            "[345]\ttrain-logloss:0.17811\ttrain-auc:0.96891\tvalid-logloss:0.22629\tvalid-auc:0.94613\n",
            "[346]\ttrain-logloss:0.17800\ttrain-auc:0.96896\tvalid-logloss:0.22629\tvalid-auc:0.94613\n",
            "[347]\ttrain-logloss:0.17793\ttrain-auc:0.96899\tvalid-logloss:0.22629\tvalid-auc:0.94613\n",
            "[348]\ttrain-logloss:0.17787\ttrain-auc:0.96901\tvalid-logloss:0.22631\tvalid-auc:0.94612\n",
            "[349]\ttrain-logloss:0.17775\ttrain-auc:0.96907\tvalid-logloss:0.22632\tvalid-auc:0.94611\n",
            "[350]\ttrain-logloss:0.17762\ttrain-auc:0.96913\tvalid-logloss:0.22636\tvalid-auc:0.94610\n",
            "[351]\ttrain-logloss:0.17751\ttrain-auc:0.96919\tvalid-logloss:0.22637\tvalid-auc:0.94609\n",
            "[352]\ttrain-logloss:0.17743\ttrain-auc:0.96923\tvalid-logloss:0.22638\tvalid-auc:0.94608\n",
            "[353]\ttrain-logloss:0.17731\ttrain-auc:0.96927\tvalid-logloss:0.22641\tvalid-auc:0.94607\n",
            "[354]\ttrain-logloss:0.17720\ttrain-auc:0.96932\tvalid-logloss:0.22642\tvalid-auc:0.94606\n",
            "[355]\ttrain-logloss:0.17712\ttrain-auc:0.96935\tvalid-logloss:0.22644\tvalid-auc:0.94606\n",
            "[356]\ttrain-logloss:0.17696\ttrain-auc:0.96941\tvalid-logloss:0.22648\tvalid-auc:0.94604\n",
            "[357]\ttrain-logloss:0.17685\ttrain-auc:0.96946\tvalid-logloss:0.22649\tvalid-auc:0.94604\n",
            "[358]\ttrain-logloss:0.17671\ttrain-auc:0.96953\tvalid-logloss:0.22652\tvalid-auc:0.94603\n",
            "[359]\ttrain-logloss:0.17660\ttrain-auc:0.96957\tvalid-logloss:0.22652\tvalid-auc:0.94603\n",
            "[360]\ttrain-logloss:0.17647\ttrain-auc:0.96963\tvalid-logloss:0.22655\tvalid-auc:0.94602\n",
            "[361]\ttrain-logloss:0.17633\ttrain-auc:0.96968\tvalid-logloss:0.22657\tvalid-auc:0.94601\n",
            "[362]\ttrain-logloss:0.17621\ttrain-auc:0.96972\tvalid-logloss:0.22658\tvalid-auc:0.94600\n",
            "[363]\ttrain-logloss:0.17607\ttrain-auc:0.96978\tvalid-logloss:0.22662\tvalid-auc:0.94599\n",
            "[364]\ttrain-logloss:0.17600\ttrain-auc:0.96981\tvalid-logloss:0.22662\tvalid-auc:0.94599\n",
            "[365]\ttrain-logloss:0.17592\ttrain-auc:0.96984\tvalid-logloss:0.22663\tvalid-auc:0.94598\n",
            "[366]\ttrain-logloss:0.17582\ttrain-auc:0.96989\tvalid-logloss:0.22666\tvalid-auc:0.94597\n",
            "[367]\ttrain-logloss:0.17569\ttrain-auc:0.96995\tvalid-logloss:0.22668\tvalid-auc:0.94596\n",
            "[368]\ttrain-logloss:0.17555\ttrain-auc:0.97000\tvalid-logloss:0.22670\tvalid-auc:0.94596\n",
            "[369]\ttrain-logloss:0.17546\ttrain-auc:0.97004\tvalid-logloss:0.22670\tvalid-auc:0.94596\n",
            "[370]\ttrain-logloss:0.17534\ttrain-auc:0.97009\tvalid-logloss:0.22672\tvalid-auc:0.94595\n",
            "[371]\ttrain-logloss:0.17525\ttrain-auc:0.97012\tvalid-logloss:0.22673\tvalid-auc:0.94594\n",
            "[372]\ttrain-logloss:0.17514\ttrain-auc:0.97018\tvalid-logloss:0.22673\tvalid-auc:0.94595\n",
            "[373]\ttrain-logloss:0.17503\ttrain-auc:0.97023\tvalid-logloss:0.22676\tvalid-auc:0.94593\n",
            "[374]\ttrain-logloss:0.17491\ttrain-auc:0.97027\tvalid-logloss:0.22678\tvalid-auc:0.94593\n",
            "[375]\ttrain-logloss:0.17481\ttrain-auc:0.97032\tvalid-logloss:0.22681\tvalid-auc:0.94591\n",
            "[376]\ttrain-logloss:0.17470\ttrain-auc:0.97036\tvalid-logloss:0.22681\tvalid-auc:0.94590\n",
            "[377]\ttrain-logloss:0.17453\ttrain-auc:0.97043\tvalid-logloss:0.22679\tvalid-auc:0.94592\n",
            "[378]\ttrain-logloss:0.17447\ttrain-auc:0.97045\tvalid-logloss:0.22680\tvalid-auc:0.94592\n",
            "[379]\ttrain-logloss:0.17442\ttrain-auc:0.97047\tvalid-logloss:0.22682\tvalid-auc:0.94591\n",
            "[380]\ttrain-logloss:0.17430\ttrain-auc:0.97051\tvalid-logloss:0.22683\tvalid-auc:0.94590\n",
            "[381]\ttrain-logloss:0.17420\ttrain-auc:0.97056\tvalid-logloss:0.22682\tvalid-auc:0.94591\n",
            "[382]\ttrain-logloss:0.17411\ttrain-auc:0.97059\tvalid-logloss:0.22684\tvalid-auc:0.94590\n",
            "[383]\ttrain-logloss:0.17400\ttrain-auc:0.97063\tvalid-logloss:0.22688\tvalid-auc:0.94588\n",
            "[384]\ttrain-logloss:0.17389\ttrain-auc:0.97067\tvalid-logloss:0.22689\tvalid-auc:0.94588\n",
            "[385]\ttrain-logloss:0.17375\ttrain-auc:0.97073\tvalid-logloss:0.22690\tvalid-auc:0.94587\n",
            "[386]\ttrain-logloss:0.17364\ttrain-auc:0.97077\tvalid-logloss:0.22694\tvalid-auc:0.94586\n",
            "[387]\ttrain-logloss:0.17353\ttrain-auc:0.97082\tvalid-logloss:0.22695\tvalid-auc:0.94585\n",
            "[388]\ttrain-logloss:0.17339\ttrain-auc:0.97088\tvalid-logloss:0.22699\tvalid-auc:0.94583\n",
            "[389]\ttrain-logloss:0.17329\ttrain-auc:0.97092\tvalid-logloss:0.22701\tvalid-auc:0.94582\n",
            "[390]\ttrain-logloss:0.17321\ttrain-auc:0.97096\tvalid-logloss:0.22702\tvalid-auc:0.94582\n",
            "[391]\ttrain-logloss:0.17309\ttrain-auc:0.97101\tvalid-logloss:0.22704\tvalid-auc:0.94582\n",
            "[392]\ttrain-logloss:0.17296\ttrain-auc:0.97106\tvalid-logloss:0.22707\tvalid-auc:0.94581\n",
            "[393]\ttrain-logloss:0.17290\ttrain-auc:0.97108\tvalid-logloss:0.22710\tvalid-auc:0.94579\n",
            "[394]\ttrain-logloss:0.17282\ttrain-auc:0.97112\tvalid-logloss:0.22711\tvalid-auc:0.94579\n",
            "[395]\ttrain-logloss:0.17274\ttrain-auc:0.97115\tvalid-logloss:0.22711\tvalid-auc:0.94579\n",
            "[396]\ttrain-logloss:0.17260\ttrain-auc:0.97120\tvalid-logloss:0.22715\tvalid-auc:0.94578\n",
            "[397]\ttrain-logloss:0.17249\ttrain-auc:0.97124\tvalid-logloss:0.22716\tvalid-auc:0.94579\n",
            "[398]\ttrain-logloss:0.17240\ttrain-auc:0.97128\tvalid-logloss:0.22715\tvalid-auc:0.94579\n",
            "[399]\ttrain-logloss:0.17232\ttrain-auc:0.97131\tvalid-logloss:0.22717\tvalid-auc:0.94578\n",
            "[400]\ttrain-logloss:0.17230\ttrain-auc:0.97132\tvalid-logloss:0.22718\tvalid-auc:0.94577\n",
            "[401]\ttrain-logloss:0.17223\ttrain-auc:0.97135\tvalid-logloss:0.22718\tvalid-auc:0.94578\n",
            "[402]\ttrain-logloss:0.17208\ttrain-auc:0.97141\tvalid-logloss:0.22715\tvalid-auc:0.94579\n",
            "[403]\ttrain-logloss:0.17195\ttrain-auc:0.97146\tvalid-logloss:0.22719\tvalid-auc:0.94578\n",
            "[404]\ttrain-logloss:0.17194\ttrain-auc:0.97146\tvalid-logloss:0.22719\tvalid-auc:0.94578\n",
            "[405]\ttrain-logloss:0.17188\ttrain-auc:0.97148\tvalid-logloss:0.22720\tvalid-auc:0.94578\n",
            "[406]\ttrain-logloss:0.17185\ttrain-auc:0.97150\tvalid-logloss:0.22722\tvalid-auc:0.94577\n",
            "[407]\ttrain-logloss:0.17173\ttrain-auc:0.97154\tvalid-logloss:0.22724\tvalid-auc:0.94576\n",
            "[408]\ttrain-logloss:0.17163\ttrain-auc:0.97158\tvalid-logloss:0.22726\tvalid-auc:0.94575\n",
            "[409]\ttrain-logloss:0.17154\ttrain-auc:0.97162\tvalid-logloss:0.22731\tvalid-auc:0.94573\n",
            "[410]\ttrain-logloss:0.17143\ttrain-auc:0.97167\tvalid-logloss:0.22732\tvalid-auc:0.94573\n",
            "[411]\ttrain-logloss:0.17139\ttrain-auc:0.97169\tvalid-logloss:0.22732\tvalid-auc:0.94573\n",
            "[412]\ttrain-logloss:0.17131\ttrain-auc:0.97172\tvalid-logloss:0.22735\tvalid-auc:0.94571\n",
            "[413]\ttrain-logloss:0.17119\ttrain-auc:0.97177\tvalid-logloss:0.22734\tvalid-auc:0.94571\n",
            "[414]\ttrain-logloss:0.17109\ttrain-auc:0.97181\tvalid-logloss:0.22736\tvalid-auc:0.94570\n",
            "[415]\ttrain-logloss:0.17096\ttrain-auc:0.97185\tvalid-logloss:0.22737\tvalid-auc:0.94570\n",
            "[416]\ttrain-logloss:0.17086\ttrain-auc:0.97190\tvalid-logloss:0.22740\tvalid-auc:0.94569\n",
            "[417]\ttrain-logloss:0.17075\ttrain-auc:0.97195\tvalid-logloss:0.22739\tvalid-auc:0.94570\n",
            "[418]\ttrain-logloss:0.17063\ttrain-auc:0.97199\tvalid-logloss:0.22738\tvalid-auc:0.94571\n",
            "[419]\ttrain-logloss:0.17048\ttrain-auc:0.97204\tvalid-logloss:0.22739\tvalid-auc:0.94570\n",
            "[420]\ttrain-logloss:0.17040\ttrain-auc:0.97207\tvalid-logloss:0.22742\tvalid-auc:0.94569\n",
            "[421]\ttrain-logloss:0.17029\ttrain-auc:0.97212\tvalid-logloss:0.22744\tvalid-auc:0.94568\n",
            "[422]\ttrain-logloss:0.17020\ttrain-auc:0.97215\tvalid-logloss:0.22746\tvalid-auc:0.94568\n",
            "[423]\ttrain-logloss:0.17012\ttrain-auc:0.97218\tvalid-logloss:0.22746\tvalid-auc:0.94568\n",
            "[424]\ttrain-logloss:0.17000\ttrain-auc:0.97223\tvalid-logloss:0.22747\tvalid-auc:0.94567\n",
            "[425]\ttrain-logloss:0.16992\ttrain-auc:0.97226\tvalid-logloss:0.22749\tvalid-auc:0.94567\n",
            "[426]\ttrain-logloss:0.16983\ttrain-auc:0.97230\tvalid-logloss:0.22750\tvalid-auc:0.94567\n",
            "[427]\ttrain-logloss:0.16978\ttrain-auc:0.97232\tvalid-logloss:0.22751\tvalid-auc:0.94567\n",
            "[428]\ttrain-logloss:0.16974\ttrain-auc:0.97233\tvalid-logloss:0.22751\tvalid-auc:0.94567\n",
            "[429]\ttrain-logloss:0.16966\ttrain-auc:0.97236\tvalid-logloss:0.22753\tvalid-auc:0.94565\n",
            "[430]\ttrain-logloss:0.16956\ttrain-auc:0.97240\tvalid-logloss:0.22754\tvalid-auc:0.94565\n",
            "[431]\ttrain-logloss:0.16947\ttrain-auc:0.97244\tvalid-logloss:0.22756\tvalid-auc:0.94565\n",
            "[432]\ttrain-logloss:0.16940\ttrain-auc:0.97246\tvalid-logloss:0.22755\tvalid-auc:0.94565\n",
            "[433]\ttrain-logloss:0.16927\ttrain-auc:0.97251\tvalid-logloss:0.22759\tvalid-auc:0.94563\n",
            "[434]\ttrain-logloss:0.16925\ttrain-auc:0.97252\tvalid-logloss:0.22760\tvalid-auc:0.94563\n",
            "[435]\ttrain-logloss:0.16913\ttrain-auc:0.97257\tvalid-logloss:0.22759\tvalid-auc:0.94564\n",
            "[436]\ttrain-logloss:0.16903\ttrain-auc:0.97261\tvalid-logloss:0.22762\tvalid-auc:0.94562\n",
            "[437]\ttrain-logloss:0.16893\ttrain-auc:0.97264\tvalid-logloss:0.22763\tvalid-auc:0.94562\n",
            "[438]\ttrain-logloss:0.16881\ttrain-auc:0.97269\tvalid-logloss:0.22765\tvalid-auc:0.94561\n",
            "[439]\ttrain-logloss:0.16873\ttrain-auc:0.97272\tvalid-logloss:0.22767\tvalid-auc:0.94561\n",
            "[440]\ttrain-logloss:0.16862\ttrain-auc:0.97277\tvalid-logloss:0.22767\tvalid-auc:0.94560\n",
            "[441]\ttrain-logloss:0.16849\ttrain-auc:0.97282\tvalid-logloss:0.22769\tvalid-auc:0.94559\n",
            "[442]\ttrain-logloss:0.16843\ttrain-auc:0.97284\tvalid-logloss:0.22770\tvalid-auc:0.94559\n",
            "[443]\ttrain-logloss:0.16835\ttrain-auc:0.97288\tvalid-logloss:0.22772\tvalid-auc:0.94558\n",
            "[444]\ttrain-logloss:0.16829\ttrain-auc:0.97290\tvalid-logloss:0.22772\tvalid-auc:0.94558\n",
            "[445]\ttrain-logloss:0.16823\ttrain-auc:0.97292\tvalid-logloss:0.22775\tvalid-auc:0.94557\n",
            "[446]\ttrain-logloss:0.16820\ttrain-auc:0.97294\tvalid-logloss:0.22777\tvalid-auc:0.94556\n",
            "[447]\ttrain-logloss:0.16813\ttrain-auc:0.97297\tvalid-logloss:0.22778\tvalid-auc:0.94555\n",
            "[448]\ttrain-logloss:0.16806\ttrain-auc:0.97300\tvalid-logloss:0.22780\tvalid-auc:0.94555\n",
            "[449]\ttrain-logloss:0.16794\ttrain-auc:0.97304\tvalid-logloss:0.22783\tvalid-auc:0.94554\n",
            "[450]\ttrain-logloss:0.16783\ttrain-auc:0.97308\tvalid-logloss:0.22783\tvalid-auc:0.94554\n",
            "[451]\ttrain-logloss:0.16772\ttrain-auc:0.97312\tvalid-logloss:0.22786\tvalid-auc:0.94552\n",
            "[452]\ttrain-logloss:0.16764\ttrain-auc:0.97314\tvalid-logloss:0.22790\tvalid-auc:0.94552\n",
            "[453]\ttrain-logloss:0.16754\ttrain-auc:0.97318\tvalid-logloss:0.22792\tvalid-auc:0.94551\n",
            "[454]\ttrain-logloss:0.16741\ttrain-auc:0.97323\tvalid-logloss:0.22788\tvalid-auc:0.94553\n",
            "[455]\ttrain-logloss:0.16734\ttrain-auc:0.97326\tvalid-logloss:0.22788\tvalid-auc:0.94552\n",
            "[456]\ttrain-logloss:0.16722\ttrain-auc:0.97331\tvalid-logloss:0.22792\tvalid-auc:0.94551\n",
            "[457]\ttrain-logloss:0.16709\ttrain-auc:0.97336\tvalid-logloss:0.22792\tvalid-auc:0.94551\n",
            "[458]\ttrain-logloss:0.16700\ttrain-auc:0.97340\tvalid-logloss:0.22792\tvalid-auc:0.94551\n",
            "[459]\ttrain-logloss:0.16690\ttrain-auc:0.97344\tvalid-logloss:0.22792\tvalid-auc:0.94551\n",
            "[460]\ttrain-logloss:0.16681\ttrain-auc:0.97348\tvalid-logloss:0.22795\tvalid-auc:0.94550\n",
            "[461]\ttrain-logloss:0.16673\ttrain-auc:0.97351\tvalid-logloss:0.22796\tvalid-auc:0.94549\n",
            "[462]\ttrain-logloss:0.16662\ttrain-auc:0.97356\tvalid-logloss:0.22796\tvalid-auc:0.94549\n",
            "[463]\ttrain-logloss:0.16652\ttrain-auc:0.97360\tvalid-logloss:0.22798\tvalid-auc:0.94548\n",
            "[464]\ttrain-logloss:0.16645\ttrain-auc:0.97363\tvalid-logloss:0.22798\tvalid-auc:0.94548\n",
            "[465]\ttrain-logloss:0.16634\ttrain-auc:0.97368\tvalid-logloss:0.22800\tvalid-auc:0.94547\n",
            "[466]\ttrain-logloss:0.16623\ttrain-auc:0.97372\tvalid-logloss:0.22802\tvalid-auc:0.94547\n",
            "[467]\ttrain-logloss:0.16608\ttrain-auc:0.97378\tvalid-logloss:0.22798\tvalid-auc:0.94548\n",
            "[468]\ttrain-logloss:0.16598\ttrain-auc:0.97382\tvalid-logloss:0.22802\tvalid-auc:0.94546\n",
            "[469]\ttrain-logloss:0.16588\ttrain-auc:0.97385\tvalid-logloss:0.22805\tvalid-auc:0.94545\n",
            "[470]\ttrain-logloss:0.16578\ttrain-auc:0.97389\tvalid-logloss:0.22805\tvalid-auc:0.94545\n",
            "[471]\ttrain-logloss:0.16567\ttrain-auc:0.97394\tvalid-logloss:0.22808\tvalid-auc:0.94544\n",
            "[472]\ttrain-logloss:0.16558\ttrain-auc:0.97397\tvalid-logloss:0.22811\tvalid-auc:0.94542\n",
            "[473]\ttrain-logloss:0.16549\ttrain-auc:0.97401\tvalid-logloss:0.22813\tvalid-auc:0.94541\n",
            "[474]\ttrain-logloss:0.16540\ttrain-auc:0.97404\tvalid-logloss:0.22813\tvalid-auc:0.94541\n",
            "[475]\ttrain-logloss:0.16529\ttrain-auc:0.97408\tvalid-logloss:0.22818\tvalid-auc:0.94539\n",
            "[476]\ttrain-logloss:0.16525\ttrain-auc:0.97410\tvalid-logloss:0.22819\tvalid-auc:0.94539\n",
            "[477]\ttrain-logloss:0.16521\ttrain-auc:0.97412\tvalid-logloss:0.22821\tvalid-auc:0.94538\n",
            "[478]\ttrain-logloss:0.16519\ttrain-auc:0.97412\tvalid-logloss:0.22822\tvalid-auc:0.94538\n",
            "[479]\ttrain-logloss:0.16507\ttrain-auc:0.97417\tvalid-logloss:0.22824\tvalid-auc:0.94537\n",
            "[480]\ttrain-logloss:0.16497\ttrain-auc:0.97421\tvalid-logloss:0.22827\tvalid-auc:0.94535\n",
            "[481]\ttrain-logloss:0.16486\ttrain-auc:0.97426\tvalid-logloss:0.22831\tvalid-auc:0.94534\n",
            "[482]\ttrain-logloss:0.16478\ttrain-auc:0.97428\tvalid-logloss:0.22832\tvalid-auc:0.94534\n",
            "[483]\ttrain-logloss:0.16466\ttrain-auc:0.97432\tvalid-logloss:0.22834\tvalid-auc:0.94533\n",
            "[484]\ttrain-logloss:0.16457\ttrain-auc:0.97436\tvalid-logloss:0.22833\tvalid-auc:0.94533\n",
            "[485]\ttrain-logloss:0.16449\ttrain-auc:0.97439\tvalid-logloss:0.22833\tvalid-auc:0.94533\n",
            "[486]\ttrain-logloss:0.16439\ttrain-auc:0.97443\tvalid-logloss:0.22835\tvalid-auc:0.94532\n",
            "[487]\ttrain-logloss:0.16426\ttrain-auc:0.97449\tvalid-logloss:0.22838\tvalid-auc:0.94532\n",
            "[488]\ttrain-logloss:0.16416\ttrain-auc:0.97453\tvalid-logloss:0.22839\tvalid-auc:0.94531\n",
            "[489]\ttrain-logloss:0.16410\ttrain-auc:0.97455\tvalid-logloss:0.22841\tvalid-auc:0.94530\n",
            "[490]\ttrain-logloss:0.16400\ttrain-auc:0.97459\tvalid-logloss:0.22843\tvalid-auc:0.94529\n",
            "[491]\ttrain-logloss:0.16388\ttrain-auc:0.97463\tvalid-logloss:0.22846\tvalid-auc:0.94528\n",
            "[492]\ttrain-logloss:0.16374\ttrain-auc:0.97468\tvalid-logloss:0.22847\tvalid-auc:0.94529\n",
            "[493]\ttrain-logloss:0.16366\ttrain-auc:0.97472\tvalid-logloss:0.22848\tvalid-auc:0.94528\n",
            "[494]\ttrain-logloss:0.16357\ttrain-auc:0.97475\tvalid-logloss:0.22850\tvalid-auc:0.94527\n",
            "[495]\ttrain-logloss:0.16348\ttrain-auc:0.97478\tvalid-logloss:0.22853\tvalid-auc:0.94526\n",
            "[496]\ttrain-logloss:0.16341\ttrain-auc:0.97481\tvalid-logloss:0.22854\tvalid-auc:0.94525\n",
            "[497]\ttrain-logloss:0.16331\ttrain-auc:0.97485\tvalid-logloss:0.22857\tvalid-auc:0.94525\n",
            "[498]\ttrain-logloss:0.16323\ttrain-auc:0.97488\tvalid-logloss:0.22860\tvalid-auc:0.94524\n",
            "[499]\ttrain-logloss:0.16314\ttrain-auc:0.97491\tvalid-logloss:0.22863\tvalid-auc:0.94523\n"
          ]
        }
      ],
      "source": [
        "## selected features\n",
        "selected_features = get_selected_features(xgb_model)\n",
        "\n",
        "\n",
        "## selected features를 사용하여 새로운 train, val, test 만들기\n",
        "X_train, X_valid, X_test, y_train, y_valid, y_test = create_datasets_with_selected_features(\n",
        "    X, y, selected_features\n",
        ")\n",
        "\n",
        "# selected features를 사용해서 xgb train\n",
        "new_xgb_model = train_xgboost_model(X_train, y_train, X_valid, y_valid)"
      ]
    },
    {
      "cell_type": "markdown",
      "id": "f23f4119",
      "metadata": {},
      "source": [
        "#### 다-1-2-2. feature importance visualization"
      ]
    },
    {
      "cell_type": "code",
      "execution_count": 16,
      "id": "9b200630",
      "metadata": {},
      "outputs": [],
      "source": [
        "## feature importance 저장 df 만들기\n",
        "new_xgb_importance_df = pd.DataFrame({\n",
        "    'Feature': list(new_xgb_model.get_score(importance_type='weight').keys()),\n",
        "    'Importance': list(new_xgb_model.get_score(importance_type='weight').values())\n",
        "}).sort_values(by='Importance', ascending=False)"
      ]
    },
    {
      "cell_type": "code",
      "execution_count": 17,
      "id": "2d77bc49",
      "metadata": {},
      "outputs": [
        {
          "data": {
            "image/png": "[encoded data removed]",
            "text/plain": [
              "<Figure size 800x600 with 1 Axes>"
            ]
          },
          "metadata": {},
          "output_type": "display_data"
        }
      ],
      "source": [
        "## feature importance visualizaton\n",
        "def plot_feature_importance(df, title, color='skyblue'):\n",
        "    plt.figure(figsize=(8, 6))\n",
        "    plt.barh(df['Feature'], df['Importance'], color=color)\n",
        "    plt.gca().invert_yaxis()\n",
        "    plt.title(title)\n",
        "    plt.xlabel(\"Importance\")\n",
        "    plt.show()\n",
        "\n",
        "plot_feature_importance(new_xgb_importance_df, \"XGBoost Feature Importance (Re-train)\", 'lightgreen')"
      ]
    },
    {
      "cell_type": "markdown",
      "id": "3zo00ScJVP2z",
      "metadata": {
        "id": "3zo00ScJVP2z"
      },
      "source": [
        "### 다-1-3. threshold tuning"
      ]
    },
    {
      "cell_type": "code",
      "execution_count": 18,
      "id": "f21061fe",
      "metadata": {},
      "outputs": [],
      "source": [
        "## 목적함수 : 초과수익률 최대화\n",
        "def custom_objective(y_true, y_pred_proba, earning_rate):\n",
        "    \"\"\"\n",
        "    사용자 정의 목적 함수.\n",
        "    (TN의 earning rate) - (FN의 earning rate)를 최대화.  FP는 고려하지 않음.\n",
        "\n",
        "    Args:\n",
        "        y_true: 실제 레이블 (0 또는 1).  pandas Series.\n",
        "        y_pred_proba: 예측 확률 (XGBoost의 predict 결과). numpy array.\n",
        "        earning_rate: 각 샘플의 earning rate. pandas Series.\n",
        "\n",
        "    Returns:\n",
        "        최적 threshold, 최대화된 목적 함수 값.\n",
        "    \"\"\"\n",
        "\n",
        "    best_threshold = 0\n",
        "    max_objective = -np.inf\n",
        "    thresholds = np.linspace(0, 1, 101)\n",
        "\n",
        "    for threshold in thresholds:\n",
        "        y_pred = (y_pred_proba >= threshold).astype(int)\n",
        "\n",
        "        # y_true, y_pred, 그리고 earning_rate가 호환되는 모양과 유형을 가지는지 확인\n",
        "        if isinstance(y_true, pd.Series):\n",
        "             y_true = y_true.values  # y_true -> numpy array\n",
        "        if isinstance(earning_rate, pd.Series):\n",
        "            earning_rate = earning_rate.values # earning_rate -> numpy array\n",
        "\n",
        "\n",
        "        tn, fp, fn, tp = confusion_matrix(y_true, y_pred).ravel()\n",
        "\n",
        "        # 목적함수\n",
        "        objective = (\n",
        "            ((y_true == 0) & (y_pred == 0)).dot(earning_rate)\n",
        "             - ((y_true == 1) & (y_pred == 0)).dot(earning_rate)\n",
        "        )\n",
        "\n",
        "\n",
        "        if objective > max_objective:\n",
        "            max_objective = objective\n",
        "            best_threshold = threshold\n",
        "\n",
        "    return best_threshold, max_objective\n",
        "\n"
      ]
    },
    {
      "cell_type": "code",
      "execution_count": 19,
      "id": "548d5ce7",
      "metadata": {},
      "outputs": [],
      "source": [
        "## test data에 대해 예측 진행\n",
        "X_test_for_prediction = X_test[selected_features]\n",
        "dtest_final = xgb.DMatrix(X_test_for_prediction)\n",
        "y_pred_prob_xgb = new_xgb_model.predict(dtest_final)\n",
        "\n",
        "earning_rate_test = X_test_['earning_rate']\n",
        "\n",
        "# 목적 함수를 사용하여 최적 threshold 찾기\n",
        "best_threshold_xgb, max_objective_xgb = custom_objective(y_test, y_pred_prob_xgb, earning_rate_test)"
      ]
    },
    {
      "cell_type": "code",
      "execution_count": 20,
      "id": "0e0fa200",
      "metadata": {},
      "outputs": [
        {
          "name": "stdout",
          "output_type": "stream",
          "text": [
            "Best Threshold: 0.51\n",
            "Maximized Objective: 1824159.799999922\n",
            "\n",
            "Classification Report:\n",
            "              precision    recall  f1-score   support\n",
            "\n",
            "           0       0.94      0.94      0.94    164891\n",
            "           1       0.76      0.73      0.74     39383\n",
            "\n",
            "    accuracy                           0.90    204274\n",
            "   macro avg       0.85      0.84      0.84    204274\n",
            "weighted avg       0.90      0.90      0.90    204274\n",
            "\n",
            "\n",
            "Final Confusion Matrix (Labeled):\n",
            "                 Predicted Negative (0)   Predicted Positive (1)\n",
            "Actual Negative (0)      155611 (TN)             9280 (FP)\n",
            "Actual Positive (1)      10604 (FN)             28779 (TP)\n",
            "Test Accuracy: 0.9027\n",
            "\n",
            "Overall Metrics:\n",
            "Accuracy:  0.9027\n",
            "Precision: 0.7562\n",
            "Recall:    0.7307\n",
            "F1 Score:  0.7432\n"
          ]
        }
      ],
      "source": [
        "## 결과 확인\n",
        "# 최적 임계치를 사용하여 최종 예측\n",
        "print(f\"Best Threshold: {best_threshold_xgb}\")\n",
        "print(f\"Maximized Objective: {max_objective_xgb}\")\n",
        "\n",
        "# classification report\n",
        "y_pred_final_xgb = (y_pred_prob_xgb >= best_threshold_xgb).astype(int)\n",
        "print(\"\\nClassification Report:\")\n",
        "print(classification_report(y_test, y_pred_final_xgb))\n",
        "\n",
        "# Confusion Matrix\n",
        "conf_matrix_final_xgb = confusion_matrix(y_test, y_pred_final_xgb)\n",
        "print(\"\\nFinal Confusion Matrix (Labeled):\")\n",
        "print(\"                 Predicted Negative (0)   Predicted Positive (1)\")\n",
        "print(f\"Actual Negative (0)      {conf_matrix_final_xgb[0, 0]} (TN)             {conf_matrix_final_xgb[0, 1]} (FP)\")\n",
        "print(f\"Actual Positive (1)      {conf_matrix_final_xgb[1, 0]} (FN)             {conf_matrix_final_xgb[1, 1]} (TP)\")\n",
        "\n",
        "print(\"Test Accuracy: {:.4f}\".format(accuracy_score(y_test, y_pred_final_xgb)))\n",
        "\n",
        "## 종합 평가지표 계산\n",
        "accuracy = accuracy_score(y_test, y_pred_final_xgb)\n",
        "precision = precision_score(y_test, y_pred_final_xgb)\n",
        "recall = recall_score(y_test, y_pred_final_xgb)\n",
        "f1 = f1_score(y_test, y_pred_final_xgb)\n",
        "\n",
        "print(\"\\nOverall Metrics:\")\n",
        "print(\"Accuracy:  {:.4f}\".format(accuracy))\n",
        "print(\"Precision: {:.4f}\".format(precision))\n",
        "print(\"Recall:    {:.4f}\".format(recall))\n",
        "print(\"F1 Score:  {:.4f}\".format(f1))"
      ]
    },
    {
      "cell_type": "code",
      "execution_count": 21,
      "id": "mTP9AYVNBDvq",
      "metadata": {
        "colab": {
          "base_uri": "https://localhost:8080/"
        },
        "id": "mTP9AYVNBDvq",
        "outputId": "0b2884fe-2f2a-4e88-ed40-81f7dec8f114"
      },
      "outputs": [
        {
          "name": "stdout",
          "output_type": "stream",
          "text": [
            "Model and threshold saved to ./02 model/default_pred_xgb.pkl\n"
          ]
        }
      ],
      "source": [
        "## 모델과 최적 임계치 저장 (모델과 threshold를 dictionary로 묶어서 저장)\n",
        "model_dir = \"./02 model\"\n",
        "os.makedirs(model_dir, exist_ok=True)\n",
        "save_path = os.path.join(model_dir, \"default_pred_xgb.pkl\")\n",
        "\n",
        "saved_obj = {\n",
        "    \"model\": xgb_model,\n",
        "    \"best_threshold\": best_threshold_xgb\n",
        "}\n",
        "joblib.dump(saved_obj, save_path)\n",
        "print(f\"Model and threshold saved to {save_path}\")\n"
      ]
    },
    {
      "cell_type": "markdown",
      "id": "5YMMD6sf3XpS",
      "metadata": {
        "id": "5YMMD6sf3XpS"
      },
      "source": [
        "## 다-2. lightGBM"
      ]
    },
    {
      "cell_type": "markdown",
      "id": "g6UEwBM8Vmiy",
      "metadata": {
        "id": "g6UEwBM8Vmiy"
      },
      "source": [
        "### 다-2-1. initial training"
      ]
    },
    {
      "cell_type": "markdown",
      "id": "508c9f99",
      "metadata": {},
      "source": [
        "#### 다-2-1-1. training"
      ]
    },
    {
      "cell_type": "code",
      "execution_count": 22,
      "id": "5fd4b3fa5725104",
      "metadata": {
        "ExecuteTime": {
          "end_time": "2025-03-05T01:02:21.495400Z",
          "start_time": "2025-03-05T01:02:06.777946Z"
        },
        "id": "5fd4b3fa5725104"
      },
      "outputs": [],
      "source": [
        "## Dataset 생성\n",
        "dtrain = lgb.Dataset(X_train, label=y_train)\n",
        "dvalid = lgb.Dataset(X_valid, label=y_valid, reference=dtrain)\n",
        "lgb_params = {\n",
        "    'objective': 'binary',          # 이진 분류\n",
        "    'metric': 'binary_logloss',     # 평가 지표\n",
        "    'seed': RANDOM_SEED\n",
        "}"
      ]
    },
    {
      "cell_type": "code",
      "execution_count": 23,
      "id": "rRB1BI7mKZa9",
      "metadata": {
        "colab": {
          "base_uri": "https://localhost:8080/"
        },
        "id": "rRB1BI7mKZa9",
        "outputId": "e954ea13-71a0-4555-bbe5-0e34feb97b8e"
      },
      "outputs": [
        {
          "name": "stdout",
          "output_type": "stream",
          "text": [
            "[LightGBM] [Info] Number of positive: 118314, number of negative: 494506\n",
            "[LightGBM] [Info] Auto-choosing row-wise multi-threading, the overhead of testing was 0.006142 seconds.\n",
            "You can set `force_row_wise=true` to remove the overhead.\n",
            "And if memory is not enough, you can set `force_col_wise=true`.\n",
            "[LightGBM] [Info] Total Bins 5074\n",
            "[LightGBM] [Info] Number of data points in the train set: 612820, number of used features: 30\n",
            "[LightGBM] [Info] [binary:BoostFromScore]: pavg=0.193065 -> initscore=-1.430217\n",
            "[LightGBM] [Info] Start training from score -1.430217\n",
            "Training until validation scores don't improve for 10 rounds\n",
            "Early stopping, best iteration is:\n",
            "[154]\ttrain's binary_logloss: 0.215415\tvalid's binary_logloss: 0.222915\n"
          ]
        }
      ],
      "source": [
        "## 모델 학습\n",
        "lgb_model = lgb.train(\n",
        "    lgb_params,\n",
        "    dtrain,\n",
        "    num_boost_round=500,\n",
        "    valid_sets=[dtrain, dvalid],\n",
        "    valid_names=['train', 'valid'],\n",
        "    callbacks=[lgb.early_stopping(stopping_rounds=10)]\n",
        ")"
      ]
    },
    {
      "cell_type": "markdown",
      "id": "SUbkhU4LVsMn",
      "metadata": {
        "id": "SUbkhU4LVsMn"
      },
      "source": [
        "#### 다-2-1-2. feature importance visualization"
      ]
    },
    {
      "cell_type": "code",
      "execution_count": 24,
      "id": "4SvtXXWZVuv3",
      "metadata": {
        "colab": {
          "base_uri": "https://localhost:8080/"
        },
        "id": "4SvtXXWZVuv3",
        "outputId": "cdf2cd3e-20ca-4c26-e067-37c4d45cad94"
      },
      "outputs": [
        {
          "name": "stdout",
          "output_type": "stream",
          "text": [
            "최종 선택된 feature 개수: 30\n",
            "최종 선택된 Top Features: ['emp_length', 'dti', 'revol_util', 'fico_avg', 'last_fico_range_high', 'term', 'int_rate', 'installment', 'funded_amnt_inv', 'annual_inc', 'bc_open_to_buy', 'sub_grade', 'funded_amnt', 'num_rev_accts', 'total_rev_hi_lim', 'total_acc', 'pct_tl_nvr_dlq', 'avg_cur_bal', 'total_bc_limit', 'num_bc_tl', 'bc_util', 'tot_cur_bal', 'revol_bal', 'num_bc_sats', 'mort_acc', 'total_bal_ex_mort', 'acc_open_past_24mths', 'tot_hi_cred_lim', 'num_il_tl', 'total_il_high_credit_limit']\n"
          ]
        }
      ],
      "source": [
        "## 01.feature importance dataframe 설정\n",
        "lgb_importance_df = pd.DataFrame({\n",
        "    'Feature': lgb_model.feature_name(),\n",
        "    'Importance': lgb_model.feature_importance(importance_type='gain')\n",
        "}).sort_values(by='Importance', ascending=False)\n",
        "\n",
        "## 02. 도메인 feature 필터링 (데이터에 존재하는 것만)\n",
        "domain_features = ['emp_length', 'dti', 'revol_util', 'fico_avg']\n",
        "existing_domain_features = [\n",
        "    feat for feat in domain_features if feat in lgb_importance_df['Feature'].values\n",
        "]\n",
        "\n",
        "## 03. 중요도 상위 feature (도메인 feature 제외)\n",
        "top_features = lgb_importance_df[\n",
        "    ~lgb_importance_df['Feature'].isin(domain_features)\n",
        "].head(30 - len(existing_domain_features))\n",
        "\n",
        "## 04. 최종 feature 결합 (도메인 feature + 중요도 상위 feature)\n",
        "selected_features = existing_domain_features + top_features['Feature'].tolist()\n",
        "print(\"최종 선택된 feature 개수:\", len(selected_features))\n",
        "print(\"최종 선택된 Top Features:\", selected_features)\n",
        "\n",
        "\n",
        "## 05. 선택된 feature에 해당하는 데이터프레임 생성 (중요도 순으로)\n",
        "df_top = lgb_importance_df[lgb_importance_df['Feature'].isin(selected_features)]\n",
        "df_top = df_top.sort_values(by='Importance', ascending=False)"
      ]
    },
    {
      "cell_type": "code",
      "execution_count": 25,
      "id": "ne31vGnGVupA",
      "metadata": {
        "colab": {
          "base_uri": "https://localhost:8080/",
          "height": 564
        },
        "id": "ne31vGnGVupA",
        "outputId": "c60563bb-b144-450a-d66b-8f5ca3a39b37"
      },
      "outputs": [
        {
          "data": {
            "image/png": "[encoded data removed]",
            "text/plain": [
              "<Figure size 800x600 with 1 Axes>"
            ]
          },
          "metadata": {},
          "output_type": "display_data"
        }
      ],
      "source": [
        "## feature importance visualization\n",
        "def plot_feature_importance(df, title, color='skyblue'):\n",
        "    plt.figure(figsize=(8, 6))\n",
        "    plt.barh(df['Feature'], df['Importance'], color=color)\n",
        "    plt.gca().invert_yaxis()\n",
        "    plt.title(title)\n",
        "    plt.xlabel(\"Importance\")\n",
        "    plt.show()\n",
        "\n",
        "plot_feature_importance(df_top, \"LightGBM Feature Importance (Initial Training, Top 30)\")"
      ]
    },
    {
      "cell_type": "markdown",
      "id": "4ea4eb98",
      "metadata": {},
      "source": [
        "### 다-2-2. Re-training"
      ]
    },
    {
      "cell_type": "markdown",
      "id": "28891d56",
      "metadata": {},
      "source": [
        "#### 다-2-2-1. training"
      ]
    },
    {
      "cell_type": "code",
      "execution_count": 26,
      "id": "1ef17b09",
      "metadata": {},
      "outputs": [],
      "source": [
        "## 01.feature importance dataframe 설정\n",
        "def get_selected_features(lgb_model, domain_features=['dti', 'revol_util', 'fico_avg']):\n",
        "    \"\"\"\n",
        "    Calculates feature importance, selects top features (including domain features),\n",
        "    and returns the list of selected features.\n",
        "    \"\"\"\n",
        "    ## 01. feature importance dataframe 설정\n",
        "    lgb_importance_df = pd.DataFrame({\n",
        "        'Feature': lgb_model.feature_name(),\n",
        "        'Importance': list(lgb_model.feature_importance(importance_type='gain'))\n",
        "    }).sort_values(by='Importance', ascending=False)\n",
        "\n",
        "    ## 02. 도메인 feature 필터링 (데이터에 존재하는 것만)\n",
        "    existing_domain_features = [\n",
        "        feat for feat in domain_features if feat in lgb_importance_df['Feature'].values\n",
        "    ]\n",
        "\n",
        "    ## 03. 중요도 상위 feature (도메인 feature 제외)\n",
        "    top_features = lgb_importance_df[\n",
        "        ~lgb_importance_df['Feature'].isin(domain_features)  # 도메인 feature 제외\n",
        "    ].head(30 - len(existing_domain_features))  # 최대 30 - (이미 선택된 도메인 feature 수) 개\n",
        "\n",
        "    ## 04. 최종 feature 결합 (도메인 feature + 중요도 상위 feature)\n",
        "    selected_features = existing_domain_features + top_features['Feature'].tolist()\n",
        "    return selected_features\n",
        "\n",
        "##  02 selected features 활용하여 새로운 X, y 만들기\n",
        "def create_datasets_with_selected_features(X, y, selected_features, test_size=0.2, valid_size=0.25, random_state=42):\n",
        "    \"\"\"\n",
        "    선택된 기능만으로 학습, 검증 및 테스트 데이터셋을 만든다.\n",
        "\n",
        "    Args:\n",
        "        X: Original feature DataFrame.\n",
        "        y: Original target Series.\n",
        "        selected_features: 선택된 기능 목록.\n",
        "        test_size: 테스트 세트에 사용할 데이터의 비율\n",
        "        valid_size: 검증에 사용할 훈련 데이터의 비율\n",
        "                     (참고: 전체 유효 크기는 유효한_size * (1-검정_size))\n",
        "        random_state: 재현성을 위한 랜덤 시드\n",
        "\n",
        "    Returns:\n",
        "      X_train, X_valid, X_test, y_train, y_valid, y_test\n",
        "    \"\"\"\n",
        "    # X feature 선택\n",
        "    if not all(feature in X.columns for feature in selected_features):\n",
        "        missing_features = [feature for feature in selected_features if feature not in X.columns]\n",
        "        raise ValueError(f\"The following features are not present in X: {missing_features}\")\n",
        "    \n",
        "    X_selected = X[selected_features]\n",
        "\n",
        "\n",
        "    # Train/test split (initial split의 결과와 동일하게)\n",
        "    X_train_temp, X_test, y_train_temp, y_test = train_test_split(\n",
        "        X_selected, y, test_size=test_size, random_state=random_state\n",
        "    )\n",
        "    X_train, X_valid, y_train, y_valid = train_test_split(\n",
        "        X_train_temp, y_train_temp, test_size=valid_size, random_state=random_state\n",
        "    )\n",
        "\n",
        "    return X_train, X_valid, X_test, y_train, y_valid, y_test\n",
        "\n",
        "## 03 XGBoost Model training 시키기\n",
        "def train_lgboost_model(X_train, y_train, X_valid, y_valid, params=None, num_boost_round=500):\n",
        "    \"\"\"Trains an lgboost model with the given data and parameters.\"\"\"\n",
        "\n",
        "    dtrain = lgb.Dataset(X_train, label=y_train)\n",
        "    dvalid = lgb.Dataset(X_valid, label=y_valid)\n",
        "\n",
        "    if params is None:\n",
        "        params = {\n",
        "            'objective': 'binary',          # 이진 분류\n",
        "            'metric': 'binary_logloss',     # 평가 지표\n",
        "            'seed': RANDOM_SEED\n",
        "        }\n",
        "\n",
        "    model = lgb.train(\n",
        "                params,\n",
        "                dtrain,\n",
        "                num_boost_round=500,\n",
        "                valid_sets=[dtrain, dvalid],\n",
        "                valid_names=['train', 'valid'],\n",
        "                callbacks=[lgb.early_stopping(stopping_rounds=10)]\n",
        "            )\n",
        "    return model\n"
      ]
    },
    {
      "cell_type": "code",
      "execution_count": 27,
      "id": "d63947fd",
      "metadata": {},
      "outputs": [
        {
          "name": "stdout",
          "output_type": "stream",
          "text": [
            "[LightGBM] [Info] Number of positive: 118314, number of negative: 494506\n",
            "[LightGBM] [Info] Auto-choosing row-wise multi-threading, the overhead of testing was 0.005103 seconds.\n",
            "You can set `force_row_wise=true` to remove the overhead.\n",
            "And if memory is not enough, you can set `force_col_wise=true`.\n",
            "[LightGBM] [Info] Total Bins 5074\n",
            "[LightGBM] [Info] Number of data points in the train set: 612820, number of used features: 30\n",
            "[LightGBM] [Info] [binary:BoostFromScore]: pavg=0.193065 -> initscore=-1.430217\n",
            "[LightGBM] [Info] Start training from score -1.430217\n",
            "Training until validation scores don't improve for 10 rounds\n",
            "Early stopping, best iteration is:\n",
            "[154]\ttrain's binary_logloss: 0.215415\tvalid's binary_logloss: 0.222914\n"
          ]
        }
      ],
      "source": [
        "## selected features\n",
        "selected_features = get_selected_features(lgb_model)\n",
        "\n",
        "\n",
        "## selected features를 사용하여 새로운 train, val, test 만들기\n",
        "X_train, X_valid, X_test, y_train, y_valid, y_test = create_datasets_with_selected_features(\n",
        "    X, y, selected_features\n",
        ")\n",
        "\n",
        "# selected features를 사용해서 xgb train\n",
        "new_lgb_model = train_lgboost_model(X_train, y_train, X_valid, y_valid)\n"
      ]
    },
    {
      "cell_type": "markdown",
      "id": "a6949cc7",
      "metadata": {},
      "source": [
        "#### 다-2-2-2. feature importance visualization"
      ]
    },
    {
      "cell_type": "code",
      "execution_count": 28,
      "id": "096032b8",
      "metadata": {},
      "outputs": [],
      "source": [
        "## Dataset 생성\n",
        "new_lgb_importance_df = pd.DataFrame({\n",
        "    'Feature': new_lgb_model.feature_name(),\n",
        "    'Importance': new_lgb_model.feature_importance(importance_type='gain')\n",
        "}).sort_values(by='Importance', ascending=False)"
      ]
    },
    {
      "cell_type": "code",
      "execution_count": 29,
      "id": "94d53013",
      "metadata": {},
      "outputs": [
        {
          "data": {
            "image/png": "[encoded data removed]",
            "text/plain": [
              "<Figure size 800x600 with 1 Axes>"
            ]
          },
          "metadata": {},
          "output_type": "display_data"
        }
      ],
      "source": [
        "## feature importance visualization\n",
        "def plot_feature_importance(df, title, color='skyblue'):\n",
        "    plt.figure(figsize=(8, 6))\n",
        "    plt.barh(df['Feature'], df['Importance'], color=color)\n",
        "    plt.gca().invert_yaxis()\n",
        "    plt.title(title)\n",
        "    plt.xlabel(\"Importance\")\n",
        "    plt.show()\n",
        "\n",
        "plot_feature_importance(new_lgb_importance_df, \"LightGBM Feature Importance (Re-train)\")"
      ]
    },
    {
      "cell_type": "markdown",
      "id": "za6brHJlVvDk",
      "metadata": {
        "id": "za6brHJlVvDk"
      },
      "source": [
        "### 05-3. threshold 튜닝"
      ]
    },
    {
      "cell_type": "code",
      "execution_count": 30,
      "id": "81af2f7e",
      "metadata": {},
      "outputs": [],
      "source": [
        "# 테스트 데이터에 대한 예측 확률\n",
        "X_test_for_prediction = X_test[selected_features]\n",
        "y_pred_prob_lgb = lgb_model.predict(X_test)  # 클래스 1 (부도)에 대한 확률\n",
        "\n",
        "# 목적 함수를 사용하여 최적 threshold 찾기\n",
        "best_threshold_lgb, max_objective_lgb = custom_objective(y_test, y_pred_prob_lgb, earning_rate_test)\n"
      ]
    },
    {
      "cell_type": "code",
      "execution_count": 31,
      "id": "zZTY1WATKzhV",
      "metadata": {
        "colab": {
          "base_uri": "https://localhost:8080/"
        },
        "id": "zZTY1WATKzhV",
        "outputId": "9ca2aace-b97a-4480-ae15-4745c46e858e"
      },
      "outputs": [
        {
          "name": "stdout",
          "output_type": "stream",
          "text": [
            "Best Threshold: 0.6\n",
            "Maximized Objective: 1740265.869999929\n",
            "\n",
            "Classification Report:\n",
            "              precision    recall  f1-score   support\n",
            "\n",
            "           0       0.92      0.92      0.92    164891\n",
            "           1       0.66      0.66      0.66     39383\n",
            "\n",
            "    accuracy                           0.87    204274\n",
            "   macro avg       0.79      0.79      0.79    204274\n",
            "weighted avg       0.87      0.87      0.87    204274\n",
            "\n",
            "\n",
            "Final Confusion Matrix (lightGBM):\n",
            "                 Predicted Negative (0)   Predicted Positive (1)\n",
            "Actual Negative (0)      151727 (TN)             13164 (FP)\n",
            "Actual Positive (1)      13434 (FN)             25949 (TP)\n",
            "Test Accuracy: 0.8698\n",
            "\n",
            "Overall Metrics:\n",
            "Accuracy:  0.8698\n",
            "Precision: 0.6634\n",
            "Recall:    0.6589\n",
            "F1 Score:  0.6612\n"
          ]
        }
      ],
      "source": [
        "## 결과 확인\n",
        "# 최적 임계치를 사용하여 최종 예측\n",
        "print(f\"Best Threshold: {best_threshold_lgb}\")\n",
        "print(f\"Maximized Objective: {max_objective_lgb}\")\n",
        "\n",
        "# classification report\n",
        "y_pred_final_lgb = (y_pred_prob_lgb >= best_threshold_lgb).astype(int)\n",
        "print(\"\\nClassification Report:\")\n",
        "print(classification_report(y_test, y_pred_final_lgb))\n",
        "\n",
        "# Confusion Matrix\n",
        "conf_matrix_final_lgb = confusion_matrix(y_test, y_pred_final_lgb)\n",
        "print(\"\\nFinal Confusion Matrix (lightGBM):\")\n",
        "print(\"                 Predicted Negative (0)   Predicted Positive (1)\")\n",
        "print(f\"Actual Negative (0)      {conf_matrix_final_lgb[0, 0]} (TN)             {conf_matrix_final_lgb[0, 1]} (FP)\")\n",
        "print(f\"Actual Positive (1)      {conf_matrix_final_lgb[1, 0]} (FN)             {conf_matrix_final_lgb[1, 1]} (TP)\")\n",
        "\n",
        "print(\"Test Accuracy: {:.4f}\".format(accuracy_score(y_test, y_pred_final_lgb)))\n",
        "\n",
        "## 종합 평가지표 계산\n",
        "accuracy = accuracy_score(y_test, y_pred_final_lgb)\n",
        "precision = precision_score(y_test, y_pred_final_lgb)\n",
        "recall = recall_score(y_test, y_pred_final_lgb)\n",
        "f1 = f1_score(y_test, y_pred_final_lgb)\n",
        "\n",
        "print(\"\\nOverall Metrics:\")\n",
        "print(\"Accuracy:  {:.4f}\".format(accuracy))\n",
        "print(\"Precision: {:.4f}\".format(precision))\n",
        "print(\"Recall:    {:.4f}\".format(recall))\n",
        "print(\"F1 Score:  {:.4f}\".format(f1))"
      ]
    },
    {
      "cell_type": "code",
      "execution_count": 32,
      "id": "SjiyOFexKzeL",
      "metadata": {
        "colab": {
          "base_uri": "https://localhost:8080/"
        },
        "id": "SjiyOFexKzeL",
        "outputId": "1cecb30e-c9d8-4141-dad7-e49deb9c8a30"
      },
      "outputs": [
        {
          "name": "stdout",
          "output_type": "stream",
          "text": [
            "Model and threshold saved to ./02 model/default_pred_lgb.pkl\n"
          ]
        }
      ],
      "source": [
        "## 모델과 최적 임계치 저장 (모델과 threshold를 딕셔너리로 묶어서 저장)\n",
        "model_dir = \"./02 model\"\n",
        "os.makedirs(model_dir, exist_ok=True)\n",
        "save_path = os.path.join(model_dir, \"default_pred_lgb.pkl\")\n",
        "\n",
        "saved_obj = {\n",
        "    \"model\": lgb_model,\n",
        "    \"best_threshold\": best_threshold_lgb\n",
        "}\n",
        "joblib.dump(saved_obj, save_path)\n",
        "print(f\"Model and threshold saved to {save_path}\")\n"
      ]
    },
    {
      "cell_type": "markdown",
      "id": "YAxx21BGLL-w",
      "metadata": {
        "id": "YAxx21BGLL-w"
      },
      "source": [
        "## 06. 모델 선택 및 저장"
      ]
    },
    {
      "cell_type": "code",
      "execution_count": 33,
      "id": "KG5WVb0dLOr3",
      "metadata": {
        "colab": {
          "base_uri": "https://localhost:8080/"
        },
        "id": "KG5WVb0dLOr3",
        "outputId": "6f783164-59c2-4095-dd6f-ae410226c789"
      },
      "outputs": [
        {
          "name": "stdout",
          "output_type": "stream",
          "text": [
            "XGBoost selected as the best model.\n"
          ]
        }
      ],
      "source": [
        "## earning rate가 더 큰 모델 선택\n",
        "if max_objective_xgb > max_objective_lgb:\n",
        "    best_default_model = new_xgb_model\n",
        "    best_threshold = best_threshold_xgb\n",
        "    best_model_name = \"xgboost\"\n",
        "    print(\"XGBoost selected as the best model.\")\n",
        "else:\n",
        "    best_default_model = new_lgb_model\n",
        "    best_threshold = best_threshold_lgb\n",
        "    best_model_name = \"lightgbm\"\n",
        "    print(\"LightGBM selected as the best model.\")"
      ]
    },
    {
      "cell_type": "code",
      "execution_count": 34,
      "id": "bvK0W8IINe26",
      "metadata": {
        "colab": {
          "base_uri": "https://localhost:8080/"
        },
        "id": "bvK0W8IINe26",
        "outputId": "5576a491-0c0e-42aa-b60e-5a51a8d0f324"
      },
      "outputs": [
        {
          "name": "stdout",
          "output_type": "stream",
          "text": [
            "Best model (xgboost) and threshold saved to ./02 model/best_default_model.pkl\n"
          ]
        }
      ],
      "source": [
        "# 모델 저장\n",
        "model_dir = \"./02 model\"\n",
        "os.makedirs(model_dir, exist_ok=True)\n",
        "if best_model_name == \"xgboost\":\n",
        "    save_path = os.path.join(model_dir, \"best_default_model.pkl\")\n",
        "    joblib.dump({'model': best_default_model, 'threshold': best_threshold}, save_path)\n",
        "\n",
        "elif best_model_name == \"lightgbm\":\n",
        "     save_path = os.path.join(model_dir, \"best_default_model.pkl\")\n",
        "     joblib.dump({'model': best_default_model,\n",
        "                 'best_iteration': best_default_model.best_iteration,\n",
        "                 'threshold':best_threshold}, save_path)\n",
        "\n",
        "\n",
        "print(f\"Best model ({best_model_name}) and threshold saved to {save_path}\")"
      ]
    }
  ],
  "metadata": {
    "accelerator": "GPU",
    "colab": {
      "gpuType": "A100",
      "machine_shape": "hm",
      "provenance": []
    },
    "kernelspec": {
      "display_name": "lending_club",
      "language": "python",
      "name": "python3"
    },
    "language_info": {
      "codemirror_mode": {
        "name": "ipython",
        "version": 3
      },
      "file_extension": ".py",
      "mimetype": "text/x-python",
      "name": "python",
      "nbconvert_exporter": "python",
      "pygments_lexer": "ipython3",
      "version": "3.9.21"
    }
  },
  "nbformat": 4,
  "nbformat_minor": 5
}
