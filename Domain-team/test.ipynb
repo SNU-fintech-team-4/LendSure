{
 "cells": [
  {
   "cell_type": "code",
   "id": "initial_id",
   "metadata": {
    "collapsed": true,
    "ExecuteTime": {
     "end_time": "2025-02-07T07:18:44.921757Z",
     "start_time": "2025-02-07T07:18:42.784014Z"
    }
   },
   "source": "import pandas as pd\n",
   "outputs": [],
   "execution_count": 2
  },
  {
   "metadata": {
    "ExecuteTime": {
     "end_time": "2025-02-07T07:23:28.617815Z",
     "start_time": "2025-02-07T07:23:28.509813Z"
    }
   },
   "cell_type": "code",
   "source": [
    "'''\n",
    "id : 단순 id\n",
    "url : 단순 url\n",
    "title : purpose 칼럼에서 더 categorized 설명되는 내용\n",
    "application_type : individual이 980개\n",
    "next_pymnt_d : 칼럼이 비어 있음\n",
    "policy_code : 값이 모두 1임\n",
    "chargeoff_within_12_mths : 0이 995개\n",
    "delinq_amnt : 0이 997개\n",
    "num_tl_120dpd_2m : 0이 아닌 값이 딱 1개\n",
    "num_tl_30dpd : 0이 아닌 값이 딱 2개\n",
    "hardship_flag : 값이 모두 N\n",
    "disbursement_method : cash가 997개\n",
    "'''\n",
    " \n",
    "df = pd.read_csv(\"lending_club_sample.csv\")\n",
    "df = df.drop(columns=[\"id\",\n",
    "                      \"url\",\n",
    "                      \"title\",\n",
    "                      \"application_type\",\n",
    "                      \"next_pymnt_d\",\n",
    "                      \"policy_code\",\n",
    "                      \"chargeoff_within_12_mths\",\n",
    "                      \"delinq_amnt\",\n",
    "                      \"num_tl_120dpd_2m\",\n",
    "                      \"num_tl_30dpd\",\n",
    "                      \"hardship_flag\",\n",
    "                      \"disbursement_method\"])\n",
    "\n",
    "df.to_csv(\"data_preprocessed_v1.csv\", index=False)"
   ],
   "id": "b546a8e49ffb30e5",
   "outputs": [],
   "execution_count": 7
  },
  {
   "metadata": {
    "ExecuteTime": {
     "end_time": "2025-02-07T06:34:00.178461Z",
     "start_time": "2025-02-07T06:34:00.166774Z"
    }
   },
   "cell_type": "code",
   "source": [
    "# 데이터 확인\n",
    "# 138개 칼럼\n",
    "\n",
    "df.info()\n"
   ],
   "id": "5469fc02c827b44e",
   "outputs": [
    {
     "name": "stdout",
     "output_type": "stream",
     "text": [
      "<class 'pandas.core.frame.DataFrame'>\n",
      "RangeIndex: 1000 entries, 0 to 999\n",
      "Columns: 138 entries, loan_amnt to settlement_term\n",
      "dtypes: float64(107), object(31)\n",
      "memory usage: 1.1+ MB\n"
     ]
    }
   ],
   "execution_count": 43
  }
 ],
 "metadata": {
  "kernelspec": {
   "display_name": "Python 3",
   "language": "python",
   "name": "python3"
  },
  "language_info": {
   "codemirror_mode": {
    "name": "ipython",
    "version": 2
   },
   "file_extension": ".py",
   "mimetype": "text/x-python",
   "name": "python",
   "nbconvert_exporter": "python",
   "pygments_lexer": "ipython2",
   "version": "2.7.6"
  }
 },
 "nbformat": 4,
 "nbformat_minor": 5
}
