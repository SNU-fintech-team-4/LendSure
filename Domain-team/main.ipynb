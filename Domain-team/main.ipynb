{
 "cells": [
  {
   "cell_type": "code",
   "id": "initial_id",
   "metadata": {
    "collapsed": true,
    "ExecuteTime": {
     "end_time": "2025-02-11T06:11:37.421846Z",
     "start_time": "2025-02-11T06:11:34.189111Z"
    }
   },
   "source": [
    "import pandas as pd\n",
    "import numpy as np\n",
    "from sklearn.preprocessing import LabelEncoder\n",
    "import statsmodels.api as sm\n",
    "import matplotlib.pyplot as plt\n",
    "import seaborn as sns\n",
    "from sklearn.ensemble import RandomForestClassifier\n"
   ],
   "outputs": [],
   "execution_count": 2
  },
  {
   "metadata": {
    "ExecuteTime": {
     "end_time": "2025-02-11T03:30:44.357313Z",
     "start_time": "2025-02-11T03:30:44.252154Z"
    }
   },
   "cell_type": "code",
   "source": [
    "# Data cleansing v1\n",
    "'''\n",
    "id : 단순 id\n",
    "url : 단순 url\n",
    "title : purpose 칼럼에서 더 categorized 설명되는 내용\n",
    "application_type : individual이 980개\n",
    "next_pymnt_d : 칼럼이 비어 있음\n",
    "policy_code : 값이 모두 1임\n",
    "chargeoff_within_12_mths : 0이 995개\n",
    "delinq_amnt : 0이 997개\n",
    "num_tl_120dpd_2m : 0이 아닌 값이 딱 1개\n",
    "num_tl_30dpd : 0이 아닌 값이 딱 2개\n",
    "hardship_flag : 값이 모두 N\n",
    "disbursement_method : cash가 997개\n",
    "'''\n",
    " \n",
    "df = pd.read_csv(\"lending_club_sample.csv\")\n",
    "df = df.drop(columns=[\"id\",\n",
    "                      \"url\",\n",
    "                      \"title\",\n",
    "                      \"application_type\",\n",
    "                      \"next_pymnt_d\",\n",
    "                      \"policy_code\",\n",
    "                      \"chargeoff_within_12_mths\",\n",
    "                      \"delinq_amnt\",\n",
    "                      \"num_tl_120dpd_2m\",\n",
    "                      \"num_tl_30dpd\",\n",
    "                      \"hardship_flag\",\n",
    "                      \"disbursement_method\"])\n",
    "\n",
    "df.to_csv(\"data_preprocessed_v1.csv\", index=False)"
   ],
   "id": "b546a8e49ffb30e5",
   "outputs": [],
   "execution_count": 2
  },
  {
   "metadata": {
    "ExecuteTime": {
     "end_time": "2025-02-11T06:12:51.459250Z",
     "start_time": "2025-02-11T06:12:51.417340Z"
    }
   },
   "cell_type": "code",
   "source": [
    "df = pd.read_csv(\"./data_preprocessed_v1.csv\")\n",
    "\n",
    "og_grade = df[\"grade\"]\n",
    "og_sub_grade = df[\"sub_grade\"]\n",
    "\n",
    "grade = np.array(df[\"grade\"])\n",
    "sub_grade = np.array(df[\"sub_grade\"])\n",
    "\n",
    "encoder = LabelEncoder()\n",
    "grade_encoded = encoder.fit_transform(grade)\n",
    "sub_grade_encoded = encoder.fit_transform(sub_grade)\n",
    "\n",
    "df[\"grade\"] = grade_encoded\n",
    "df[\"sub_grade\"] = sub_grade_encoded\n"
   ],
   "id": "5469fc02c827b44e",
   "outputs": [],
   "execution_count": 3
  },
  {
   "metadata": {},
   "cell_type": "code",
   "outputs": [],
   "execution_count": null,
   "source": "",
   "id": "4d58b60f17afa723"
  }
 ],
 "metadata": {
  "kernelspec": {
   "display_name": "Python 3",
   "language": "python",
   "name": "python3"
  },
  "language_info": {
   "codemirror_mode": {
    "name": "ipython",
    "version": 2
   },
   "file_extension": ".py",
   "mimetype": "text/x-python",
   "name": "python",
   "nbconvert_exporter": "python",
   "pygments_lexer": "ipython2",
   "version": "2.7.6"
  }
 },
 "nbformat": 4,
 "nbformat_minor": 5
}
