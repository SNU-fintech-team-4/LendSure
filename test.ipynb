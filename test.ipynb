{
 "cells": [
  {
   "cell_type": "code",
   "id": "initial_id",
   "metadata": {
    "collapsed": true,
    "ExecuteTime": {
     "end_time": "2025-02-03T03:06:20.107979Z",
     "start_time": "2025-02-03T03:06:20.104986Z"
    }
   },
   "source": "import pandas as pd\n",
   "outputs": [],
   "execution_count": 56
  },
  {
   "metadata": {
    "ExecuteTime": {
     "end_time": "2025-02-03T03:06:53.918482Z",
     "start_time": "2025-02-03T03:06:53.898388Z"
    }
   },
   "cell_type": "code",
   "source": [
    "'''\n",
    "id : 단순 id\n",
    "url : 단순 url\n",
    "title : purpose 칼럼에서 다 설명되는 내용. \n",
    "'''\n",
    " \n",
    "df = pd.read_csv(\"./lending_club_sample.csv\")\n",
    "# df = df.drop(columns=[\"id\", \"url\", \"title\", \"application_type\"])\n",
    "\n",
    "\n"
   ],
   "id": "b546a8e49ffb30e5",
   "outputs": [],
   "execution_count": 58
  },
  {
   "metadata": {
    "ExecuteTime": {
     "end_time": "2025-02-03T02:16:57.910877Z",
     "start_time": "2025-02-03T02:16:57.902273Z"
    }
   },
   "cell_type": "code",
   "source": [
    "# 데이터 양이 적은 칼럼\n",
    "print(df[\"application_type\"].value_counts())\n",
    "print(len(df.loc[df[\"application_type\"] == \"Joint App\", [\"application_type\"]]))\n",
    "print(df[\"acc_now_delinq\"].value_counts())\n",
    "print(len(df.loc[df[\"acc_now_delinq\"] == 1.0, [\"acc_now_delinq\"]]))\n"
   ],
   "id": "5469fc02c827b44e",
   "outputs": [
    {
     "name": "stdout",
     "output_type": "stream",
     "text": [
      "application_type\n",
      "Individual    980\n",
      "Joint App      20\n",
      "Name: count, dtype: int64\n",
      "20\n",
      "acc_now_delinq\n",
      "0.0    997\n",
      "1.0      3\n",
      "Name: count, dtype: int64\n",
      "3\n"
     ]
    }
   ],
   "execution_count": 44
  }
 ],
 "metadata": {
  "kernelspec": {
   "display_name": "Python 3",
   "language": "python",
   "name": "python3"
  },
  "language_info": {
   "codemirror_mode": {
    "name": "ipython",
    "version": 2
   },
   "file_extension": ".py",
   "mimetype": "text/x-python",
   "name": "python",
   "nbconvert_exporter": "python",
   "pygments_lexer": "ipython2",
   "version": "2.7.6"
  }
 },
 "nbformat": 4,
 "nbformat_minor": 5
}
